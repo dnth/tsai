{
 "cells": [
  {
   "cell_type": "code",
   "execution_count": null,
   "metadata": {},
   "outputs": [],
   "source": [
    "# default_exp data.validation"
   ]
  },
  {
   "cell_type": "markdown",
   "metadata": {},
   "source": [
    "# Spliting data\n",
    "\n",
    "> Functions required to perform cross-validation and transform unique time series sequence into multiple samples ready to be used by a time series model."
   ]
  },
  {
   "cell_type": "code",
   "execution_count": null,
   "metadata": {},
   "outputs": [],
   "source": [
    "#export\n",
    "from tsai.imports import *\n",
    "from tsai.utils import *"
   ]
  },
  {
   "cell_type": "code",
   "execution_count": null,
   "metadata": {},
   "outputs": [],
   "source": [
    "#export\n",
    "from sklearn.model_selection import train_test_split, KFold, StratifiedKFold\n",
    "from imblearn.over_sampling import RandomOverSampler"
   ]
  },
  {
   "cell_type": "code",
   "execution_count": null,
   "metadata": {},
   "outputs": [],
   "source": [
    "#export\n",
    "def check_overlap(a, b, c=None):\n",
    "    a = toarray(a)\n",
    "    b = toarray(b)\n",
    "    overlap_ab = np.isin(a, b)\n",
    "    if c is None:\n",
    "        if isinstance(overlap_ab[0], (list, L, np.ndarray, torch.Tensor)):  overlap_ab = overlap_ab[0] \n",
    "        if not any(overlap_ab): return False\n",
    "        else: return a[overlap_ab].tolist()\n",
    "    else:\n",
    "        c = toarray(c)\n",
    "        overlap_ac = np.isin(a, c)\n",
    "        if isinstance(overlap_ac[0], (list, L, np.ndarray, torch.Tensor)):  overlap_ac = overlap_ac[0] \n",
    "        overlap_bc = np.isin(b, c)\n",
    "        if isinstance(overlap_bc[0], (list, L, np.ndarray, torch.Tensor)):  overlap_bc = overlap_bc[0] \n",
    "        if not any(overlap_ab) and not any(overlap_ac) and not any(overlap_bc): return False\n",
    "        else: return a[overlap_ab].tolist(), a[overlap_ac].tolist(), b[overlap_bc].tolist()\n",
    "\n",
    "def check_splits_overlap(splits):\n",
    "    return [check_overlap(*_splits) for _splits in splits] if is_listy(splits[0][0]) else check_overlap(*splits)\n",
    "\n",
    "def leakage_finder(*splits, verbose=True):\n",
    "    '''You can pass splits as a tuple, or train, valid, ...'''\n",
    "    splits = L(*splits)\n",
    "    overlaps = 0\n",
    "    for i in range(len(splits)):\n",
    "        for j in range(i + 1, len(splits)):\n",
    "            overlap = check_overlap(splits[i], splits[j])\n",
    "            if overlap: \n",
    "                pv(f'overlap between splits [{i}, {j}] {overlap}', verbose)\n",
    "                overlaps += 1\n",
    "    assert overlaps == 0, 'Please, review your splits!'\n",
    "\n",
    "\n",
    "def balance_idx(o, shuffle=False, random_state=None, verbose=False):\n",
    "    if isinstance(o, list): o = L(o)\n",
    "    idx_ = np.arange(len(o)).reshape(-1, 1)\n",
    "    ros = RandomOverSampler(random_state=random_state)\n",
    "    resampled_idxs, _ = ros.fit_resample(idx_, np.asarray(o))\n",
    "    new_idx = L(resampled_idxs.reshape(-1,).tolist())\n",
    "    if shuffle: new_idx = random_shuffle(new_idx)\n",
    "    return new_idx"
   ]
  },
  {
   "cell_type": "code",
   "execution_count": null,
   "metadata": {},
   "outputs": [],
   "source": [
    "a = np.arange(10)\n",
    "b = np.arange(10, 20)\n",
    "test_eq(check_overlap(a, b), False)\n",
    "a = np.arange(10)\n",
    "b = np.arange(9, 20)\n",
    "test_eq(check_overlap(a, b), [9])\n",
    "a = np.arange(10)\n",
    "b = np.arange(10, 20)\n",
    "c = np.arange(20, 30)\n",
    "test_eq(check_overlap(a, b, c), False)\n",
    "a = np.arange(10)\n",
    "b = np.arange(10, 20)\n",
    "c = np.arange(10, 30)\n",
    "test_eq(check_overlap(a, b, c), ([], [], [10, 11, 12, 13, 14, 15, 16, 17, 18, 19]))"
   ]
  },
  {
   "cell_type": "code",
   "execution_count": null,
   "metadata": {},
   "outputs": [],
   "source": [
    "l = L(list(concat(np.zeros(5), np.ones(10)).astype(int)))\n",
    "balanced_idx = balance_idx(l)\n",
    "test_eq(np.mean(l[balanced_idx]), 0.5)\n",
    "test_eq(isinstance(balanced_idx, L), True)\n",
    "\n",
    "l = list(concat(np.zeros(5), np.ones(10)).astype(int))\n",
    "balanced_idx = balance_idx(l)\n",
    "test_eq(np.mean(L(l)[balanced_idx]), 0.5)\n",
    "test_eq(isinstance(balanced_idx, L), True)\n",
    "\n",
    "a = concat(np.zeros(5), np.ones(10)).astype(int)\n",
    "balanced_idx = balance_idx(a)\n",
    "test_eq(np.mean(a[balanced_idx]), 0.5)\n",
    "test_eq(isinstance(balanced_idx, L), True)\n",
    "\n",
    "t = concat(torch.zeros(5), torch.ones(10))\n",
    "balanced_idx = balance_idx(t, shuffle=True)\n",
    "test_eq(t[balanced_idx].mean(), 0.5)\n",
    "test_eq(isinstance(balanced_idx, L), True)"
   ]
  },
  {
   "cell_type": "code",
   "execution_count": null,
   "metadata": {},
   "outputs": [],
   "source": [
    "a, b = np.arange(100_000), np.arange(100_000, 200_000)"
   ]
  },
  {
   "cell_type": "code",
   "execution_count": null,
   "metadata": {},
   "outputs": [],
   "source": [
    "soft_labels = True\n",
    "filter_pseudolabels = .5\n",
    "balanced_pseudolabels = True\n",
    "\n",
    "\n",
    "pseudolabels = torch.rand(1000, 3)\n",
    "pseudolabels = torch.softmax(pseudolabels, -1) if soft_labels else torch.argmax(pseudolabels, -1)\n",
    "hpl = torch.argmax(pseudolabels, -1) if soft_labels else pseudolabels\n",
    "\n",
    "if filter_pseudolabels and pseudolabels.ndim > 1: \n",
    "    error = 1 - pseudolabels.max(-1).values\n",
    "    filt_pl_idx = np.arange(len(error))[error < filter_pseudolabels]\n",
    "    filt_pl = pseudolabels[error < filter_pseudolabels]\n",
    "    assert len(filt_pl) > 0, 'no filtered pseudolabels'\n",
    "    filt_hpl = torch.argmax(filt_pl, -1)\n",
    "else: \n",
    "    filt_pl_idx = np.arange(len(pseudolabels))\n",
    "    filt_pl = filt_hpl = pseudolabels\n",
    "pl_split = filt_pl_idx[balance_idx(filt_hpl)] if balanced_pseudolabels else filt_pl_idx\n",
    "test_eq(hpl[pl_split].float().mean(), np.mean(np.unique(hpl)))"
   ]
  },
  {
   "cell_type": "code",
   "execution_count": null,
   "metadata": {},
   "outputs": [],
   "source": [
    "#export\n",
    "def TrainValidTestSplitter(n_splits:int=1, valid_size:Union[float, int]=0.2, test_size:Union[float, int]=0., train_only:bool=False,\n",
    "                           stratify:bool=True, balance:bool=False, shuffle:bool=True, random_state:Union[None, int]=None, verbose:bool=False, **kwargs):\n",
    "    \"Split `items` into random train, valid (and test optional) subsets.\"\n",
    "    \n",
    "    if not shuffle and stratify and not train_only: \n",
    "        pv('stratify set to False because shuffle=False. If you want to stratify set shuffle=True', verbose)\n",
    "        stratify = False\n",
    "        \n",
    "    def _inner(o, **kwargs):\n",
    "        if stratify:\n",
    "            _, unique_counts = np.unique(o, return_counts=True)\n",
    "            if np.min(unique_counts) >= 2 and np.min(unique_counts) >= n_splits: stratify_ = stratify  \n",
    "            elif np.min(unique_counts) < n_splits: \n",
    "                stratify_ = False\n",
    "                pv(f'stratify set to False as n_splits={n_splits} cannot be greater than the min number of members in each class ({np.min(unique_counts)}).', \n",
    "                   verbose)\n",
    "            else:\n",
    "                stratify_ = False\n",
    "                pv('stratify set to False as the least populated class in o has only 1 member, which is too few.', verbose)\n",
    "        else: stratify_ = False\n",
    "        vs = 0 if train_only else 1. / n_splits if n_splits > 1 else int(valid_size * len(o)) if isinstance(valid_size, float) else valid_size\n",
    "        if test_size: \n",
    "            ts = int(test_size * len(o)) if isinstance(test_size, float) else test_size\n",
    "            train_valid, test = train_test_split(range(len(o)), test_size=ts, stratify=o if stratify_ else None, shuffle=shuffle, \n",
    "                                                 random_state=random_state, **kwargs)\n",
    "            test = toL(test)\n",
    "            if shuffle: test = random_shuffle(test, random_state)\n",
    "            if vs == 0:\n",
    "                train, _ = RandomSplitter(0, seed=random_state)(o[train_valid])\n",
    "                train = toL(train)\n",
    "                if balance: train = train[balance_idx(o[train], random_state=random_state)]\n",
    "                if shuffle: train = random_shuffle(train, random_state)\n",
    "                train_ = L(L([train]) * n_splits) if n_splits > 1 else train\n",
    "                valid_ = L(L([train]) * n_splits) if n_splits > 1 else train\n",
    "                test_ = L(L([test]) * n_splits) if n_splits > 1 else test\n",
    "                if n_splits > 1: \n",
    "                    return [split for split in itemify(train_, valid_, test_)]\n",
    "                else: \n",
    "                    return train_, valid_, test_\n",
    "            elif n_splits > 1: \n",
    "                if stratify_: \n",
    "                    splits = StratifiedKFold(n_splits=n_splits, shuffle=shuffle, random_state=random_state).split(np.arange(len(train_valid)), o[train_valid])\n",
    "                else:\n",
    "                    splits = KFold(n_splits=n_splits, shuffle=shuffle, random_state=random_state).split(np.arange(len(train_valid)))\n",
    "                train_, valid_ = L([]), L([])\n",
    "                for train, valid in splits:\n",
    "                    train, valid = toL(train), toL(valid)\n",
    "                    if balance: train = train[balance_idx(o[train], random_state=random_state)]\n",
    "                    if shuffle: \n",
    "                        train = random_shuffle(train, random_state)\n",
    "                        valid = random_shuffle(valid, random_state)\n",
    "                    train_.append(L(L(train_valid)[train]))\n",
    "                    valid_.append(L(L(train_valid)[valid]))\n",
    "                test_ = L(L([test]) * n_splits)\n",
    "                return [split for split in itemify(train_, valid_, test_)]\n",
    "            else:\n",
    "                train, valid = train_test_split(range(len(train_valid)), test_size=vs, random_state=random_state, \n",
    "                                                stratify=o[train_valid] if stratify_ else None, shuffle=shuffle, **kwargs)\n",
    "                train, valid = toL(train), toL(valid)\n",
    "                if balance: train = train[balance_idx(o[train], random_state=random_state)]\n",
    "                if shuffle: \n",
    "                    train = random_shuffle(train, random_state)\n",
    "                    valid = random_shuffle(valid, random_state)\n",
    "                return (L(L(train_valid)[train]), L(L(train_valid)[valid]),  test)\n",
    "        else: \n",
    "            if vs == 0:\n",
    "                train, _ = RandomSplitter(0, seed=random_state)(o)\n",
    "                train = toL(train)\n",
    "                if balance: train = train[balance_idx(o[train], random_state=random_state)]\n",
    "                if shuffle: train = random_shuffle(train, random_state)\n",
    "                train_ = L(L([train]) * n_splits) if n_splits > 1 else train\n",
    "                valid_ = L(L([train]) * n_splits) if n_splits > 1 else train\n",
    "                if n_splits > 1: \n",
    "                    return [split for split in itemify(train_, valid_)]\n",
    "                else: \n",
    "                    return (train_, valid_)\n",
    "            elif n_splits > 1: \n",
    "                if stratify_: splits = StratifiedKFold(n_splits=n_splits, shuffle=shuffle, random_state=random_state).split(np.arange(len(o)), o)\n",
    "                else: splits = KFold(n_splits=n_splits, shuffle=shuffle, random_state=random_state).split(np.arange(len(o)))\n",
    "                train_, valid_ = L([]), L([])\n",
    "                for train, valid in splits:\n",
    "                    train, valid = toL(train), toL(valid)\n",
    "                    if balance: train = train[balance_idx(o[train], random_state=random_state)]\n",
    "                    if shuffle: \n",
    "                        train = random_shuffle(train, random_state)\n",
    "                        valid = random_shuffle(valid, random_state)\n",
    "                    if not isinstance(train, (list, L)):  train = train.tolist()\n",
    "                    if not isinstance(valid, (list, L)):  valid = valid.tolist()\n",
    "                    train_.append(L(train))\n",
    "                    valid_.append(L(L(valid)))\n",
    "                return [split for split in itemify(train_, valid_)]\n",
    "            else:\n",
    "                train, valid = train_test_split(range(len(o)), test_size=vs, random_state=random_state, stratify=o if stratify_ else None, \n",
    "                                                shuffle=shuffle, **kwargs)\n",
    "                train, valid = toL(train), toL(valid)\n",
    "                if balance: train = train[balance_idx(o[train], random_state=random_state)]\n",
    "                return train, valid\n",
    "    return _inner"
   ]
  },
  {
   "cell_type": "code",
   "execution_count": null,
   "metadata": {},
   "outputs": [],
   "source": [
    "#export\n",
    "from matplotlib.patches import Patch\n",
    "\n",
    "def plot_splits(splits):\n",
    "    _max = 0\n",
    "    _splits = 0\n",
    "    for i, split in enumerate(splits):\n",
    "        if is_listy(split[0]):\n",
    "            for j, s in enumerate(split):\n",
    "                _max = max(_max, array(s).max())\n",
    "                _splits += 1\n",
    "        else: \n",
    "            _max = max(_max, array(split).max())\n",
    "            _splits += 1\n",
    "    _splits = [splits] if not is_listy(split[0]) else splits\n",
    "    v = np.zeros((len(_splits), _max + 1))\n",
    "    for i, split in enumerate(_splits):\n",
    "        if is_listy(split[0]):\n",
    "            for j, s in enumerate(split): \n",
    "                v[i, s] = 1 + j\n",
    "        else: v[i, split] = 1 + i\n",
    "    vals = np.unique(v)\n",
    "    plt.figure(figsize=(16, len(_splits)/2))\n",
    "    if len(vals) == 1:\n",
    "        v = np.ones((len(_splits), _max + 1))\n",
    "        plt.pcolormesh(v, color='blue')\n",
    "        legend_elements = [Patch(facecolor='blue', label='Train')]\n",
    "        plt.legend(handles=legend_elements, bbox_to_anchor=(1.05, 1), loc='upper left')\n",
    "    else: \n",
    "        colors = L(['gainsboro', 'blue', 'limegreen', 'red'])[vals]\n",
    "        cmap = matplotlib.colors.LinearSegmentedColormap.from_list('', colors)\n",
    "        plt.pcolormesh(v, cmap=cmap)\n",
    "        legend_elements = L([\n",
    "            Patch(facecolor='gainsboro', label='None'),\n",
    "            Patch(facecolor='blue', label='Train'),\n",
    "            Patch(facecolor='limegreen', label='Valid'),\n",
    "            Patch(facecolor='red', label='Test')])[vals]\n",
    "        plt.legend(handles=legend_elements, bbox_to_anchor=(1.05, 1), loc='upper left')\n",
    "    plt.title('Split distribution')\n",
    "    plt.yticks(ticks=np.arange(.5, len(_splits)+.5, 1.0), labels=np.arange(1, len(_splits)+1, 1.0).astype(int))\n",
    "    plt.gca().invert_yaxis()\n",
    "    plt.show()"
   ]
  },
  {
   "cell_type": "code",
   "execution_count": null,
   "metadata": {},
   "outputs": [],
   "source": [
    "#export\n",
    "def get_splits(o, n_splits:int=1, valid_size:float=0.2, test_size:float=0., train_only:bool=False, train_size:Union[None, float, int]=None, balance:bool=False,\n",
    "               shuffle:bool=True, stratify:bool=True, check_splits:bool=True, random_state:Union[None, int]=None, show_plot:bool=True, verbose:bool=False):\n",
    "    '''Arguments: \n",
    "        o            : object to which splits will be applied, usually target.\n",
    "        n_splits     : number of folds. Must be an int >= 1.\n",
    "        valid_size   : size of validation set. Only used if n_splits = 1. If n_splits > 1 valid_size = (1. - test_size) / n_splits. \n",
    "        test_size    : size of test set. Default = 0.\n",
    "        train_only   : if True valid set == train set. This may be useful for debugging purposes.\n",
    "        train_size   : size of the train set used. Default = None (the remainder after assigning both valid and test). \n",
    "                        Useful for to get learning curves with different train sizes or get a small batch to debug a neural net.\n",
    "        balance      : whether to balance data so that train always contain the same number of items per class.\n",
    "        shuffle      : whether to shuffle data before splitting into batches. Note that the samples within each split will be shuffle.\n",
    "        stratify     : whether to create folds preserving the percentage of samples for each class.\n",
    "        check_splits : whether to perform leakage and completion checks.\n",
    "        random_state : when shuffle is True, random_state affects the ordering of the indices. Pass an int for reproducible output.\n",
    "        show_plot    : plot the split distribution\n",
    "    '''\n",
    "    if n_splits == 1 and valid_size == 0. and  test_size == 0.: train_only = True\n",
    "    if balance: stratify = True\n",
    "    splits = TrainValidTestSplitter(n_splits, valid_size=valid_size, test_size=test_size, train_only=train_only, stratify=stratify, \n",
    "                                      balance=balance, shuffle=shuffle, random_state=random_state, verbose=verbose)(o)\n",
    "    if check_splits:\n",
    "        if train_only or (n_splits == 1 and valid_size == 0): print('valid == train')\n",
    "        elif n_splits > 1: \n",
    "            for i in range(n_splits): \n",
    "                leakage_finder([*splits[i]], verbose=True)\n",
    "                cum_len = 0\n",
    "                for split in splits[i]: cum_len += len(split)\n",
    "                if not balance: assert len(o) == cum_len, f'len(o)={len(o)} while cum_len={cum_len}'\n",
    "        else: \n",
    "            leakage_finder([splits], verbose=True)\n",
    "            cum_len = 0\n",
    "            if not isinstance(splits[0], Integral):\n",
    "                for split in splits: cum_len += len(split)\n",
    "            else: cum_len += len(splits)\n",
    "            if not balance: assert len(o) == cum_len, f'len(o)={len(o)} while cum_len={cum_len}'\n",
    "    if train_size is not None and train_size != 1: # train_size=1 legacy\n",
    "        if n_splits > 1:\n",
    "            splits = list(splits)\n",
    "            for i in range(n_splits): \n",
    "                splits[i] = list(splits[i])\n",
    "                if isinstance(train_size, Integral):\n",
    "                    n_train_samples = train_size  \n",
    "                elif train_size > 0 and train_size < 1: \n",
    "                    n_train_samples = int(len(splits[i][0]) * train_size)\n",
    "                splits[i][0] = L(np.random.choice(splits[i][0], n_train_samples, False).tolist())\n",
    "                if train_only:\n",
    "                    if valid_size != 0: splits[i][1] = splits[i][0]\n",
    "                    if test_size != 0: splits[i][2] = splits[i][0]\n",
    "                splits[i] = tuple(splits[i])\n",
    "            splits = tuple(splits)\n",
    "        else: \n",
    "            splits = list(splits)\n",
    "            if isinstance(train_size, Integral):\n",
    "                n_train_samples = train_size  \n",
    "            elif train_size > 0 and train_size < 1: \n",
    "                n_train_samples = int(len(splits[0]) * train_size)\n",
    "            splits[0] = L(np.random.choice(splits[0], n_train_samples, False).tolist())\n",
    "            if train_only:\n",
    "                if valid_size != 0: splits[1] = splits[0]\n",
    "                if test_size != 0: splits[2] = splits[0]\n",
    "            splits = tuple(splits)\n",
    "    if show_plot: plot_splits(splits)\n",
    "    return splits"
   ]
  },
  {
   "cell_type": "code",
   "execution_count": null,
   "metadata": {},
   "outputs": [
    {
     "data": {
      "image/png": "[encoded data removed]",
      "text/plain": [
       "<Figure size 1152x180 with 1 Axes>"
      ]
     },
     "metadata": {
      "needs_background": "light"
     },
     "output_type": "display_data"
    },
    {
     "data": {
      "text/plain": [
       "(((#5000) [6604,3593,8005,3280,3451,7846,7683,8649,2488,2368...],\n",
       "  (#1600) [5724,1035,6708,55,3895,4572,7917,3987,1512,811...],\n",
       "  (#2000) [3484,9724,1032,7164,6934,2149,1010,2235,1179,5839...]),\n",
       " ((#5000) [3086,3315,6721,7877,9760,3187,2010,1867,120,3832...],\n",
       "  (#1600) [8240,4340,7580,4992,9464,3075,6049,2176,8325,8951...],\n",
       "  (#2000) [3484,9724,1032,7164,6934,2149,1010,2235,1179,5839...]),\n",
       " ((#5000) [9715,259,340,8024,1834,4909,9869,8438,6025,8811...],\n",
       "  (#1600) [8361,6081,9440,5951,9876,9020,6283,5545,1074,5338...],\n",
       "  (#2000) [3484,9724,1032,7164,6934,2149,1010,2235,1179,5839...]),\n",
       " ((#5000) [3671,5261,4077,7380,8731,3912,5083,8868,1269,7901...],\n",
       "  (#1600) [5111,684,1589,6581,7984,9961,5955,991,3392,2214...],\n",
       "  (#2000) [3484,9724,1032,7164,6934,2149,1010,2235,1179,5839...]),\n",
       " ((#5000) [3858,8771,7805,6150,2978,2192,8660,8301,2458,5111...],\n",
       "  (#1600) [3778,7824,8854,8872,7255,5827,5182,9501,1835,4511...],\n",
       "  (#2000) [3484,9724,1032,7164,6934,2149,1010,2235,1179,5839...]))"
      ]
     },
     "execution_count": null,
     "metadata": {},
     "output_type": "execute_result"
    }
   ],
   "source": [
    "n_splits                = 5\n",
    "valid_size              = 0.2\n",
    "test_size               = 0.2\n",
    "train_only              = False  # set to True for debugging (valid = train)\n",
    "train_size              = 5000\n",
    "stratify                = True\n",
    "balance                 = True\n",
    "shuffle                 = True\n",
    "predefined_splits       = None\n",
    "show_plot               = True \n",
    "\n",
    "\n",
    "check_splits = True\n",
    "random_state = 23\n",
    "\n",
    "y = np.random.randint(0, 3, 10000) + 100\n",
    "\n",
    "splits = get_splits(y, n_splits=n_splits, valid_size=valid_size, test_size=test_size, shuffle=shuffle, balance=balance, stratify=stratify,\n",
    "                    train_only=train_only, train_size=train_size, check_splits=check_splits, random_state=random_state, show_plot=show_plot, verbose=True)\n",
    "splits"
   ]
  },
  {
   "cell_type": "code",
   "execution_count": null,
   "metadata": {},
   "outputs": [
    {
     "name": "stdout",
     "output_type": "stream",
     "text": [
      "valid == train\n"
     ]
    },
    {
     "data": {
      "image/png": "[encoded data removed]",
      "text/plain": [
       "<Figure size 1152x36 with 1 Axes>"
      ]
     },
     "metadata": {
      "needs_background": "light"
     },
     "output_type": "display_data"
    },
    {
     "data": {
      "text/plain": [
       "((#256) [935,502,884,723,796,339,996,579,638,15...],\n",
       " (#256) [935,502,884,723,796,339,996,579,638,15...])"
      ]
     },
     "execution_count": null,
     "metadata": {},
     "output_type": "execute_result"
    }
   ],
   "source": [
    "train_size=256\n",
    "y = np.random.randint(0, 3, 1000) + 100\n",
    "splits = get_splits(y, train_size=train_size, train_only=True)\n",
    "test_eq(splits[0], splits[1])\n",
    "test_eq(len(splits[0]), train_size)\n",
    "splits"
   ]
  },
  {
   "cell_type": "code",
   "execution_count": null,
   "metadata": {},
   "outputs": [],
   "source": [
    "#export\n",
    "def TSSplitter(valid_size:Union[int, float]=0.2, test_size:Union[int, float]=0., show_plot:bool=True):\n",
    "    \"Create function that splits `items` between train/val with `valid_size` without shuffling data.\"\n",
    "    def _inner(o):\n",
    "        valid_cut = valid_size if isinstance(valid_size, Integral) else int(round(valid_size * len(o)))\n",
    "        if test_size: \n",
    "            test_cut = test_size if isinstance(test_size, Integral) else int(round(test_size * len(o)))\n",
    "        idx = np.arange(len(o))\n",
    "        if test_size: \n",
    "            splits = L(idx[:-valid_cut - test_cut].tolist()), L(idx[-valid_cut - test_cut: - test_cut].tolist()), L(idx[-test_cut:].tolist())\n",
    "        else: \n",
    "            splits = L(idx[:-valid_cut].tolist()), L(idx[-valid_cut:].tolist())\n",
    "        if show_plot: \n",
    "            if len(o) > 1_000_000:\n",
    "                warnings.warn('the splits are too large to be plotted')\n",
    "            else: \n",
    "                plot_splits(splits)\n",
    "        return splits\n",
    "    return _inner\n",
    "\n",
    "TimeSplitter = TSSplitter"
   ]
  },
  {
   "cell_type": "code",
   "execution_count": null,
   "metadata": {},
   "outputs": [
    {
     "data": {
      "image/png": "[encoded data removed]",
      "text/plain": [
       "<Figure size 1152x36 with 1 Axes>"
      ]
     },
     "metadata": {
      "needs_background": "light"
     },
     "output_type": "display_data"
    },
    {
     "data": {
      "image/png": "[encoded data removed]",
      "text/plain": [
       "<Figure size 1152x36 with 1 Axes>"
      ]
     },
     "metadata": {
      "needs_background": "light"
     },
     "output_type": "display_data"
    },
    {
     "data": {
      "image/png": "[encoded data removed]",
      "text/plain": [
       "<Figure size 1152x36 with 1 Axes>"
      ]
     },
     "metadata": {
      "needs_background": "light"
     },
     "output_type": "display_data"
    },
    {
     "data": {
      "image/png": "[encoded data removed]",
      "text/plain": [
       "<Figure size 1152x36 with 1 Axes>"
      ]
     },
     "metadata": {
      "needs_background": "light"
     },
     "output_type": "display_data"
    },
    {
     "data": {
      "text/plain": [
       "((#800) [0,1,2,3,4,5,6,7,8,9...],\n",
       " (#200) [800,801,802,803,804,805,806,807,808,809...])"
      ]
     },
     "execution_count": null,
     "metadata": {},
     "output_type": "execute_result"
    }
   ],
   "source": [
    "y = np.arange(1000) + 100\n",
    "test_eq(TimeSplitter(valid_size=0.2)(y)[1], L(np.arange(800, 1000).tolist()))\n",
    "test_eq(TimeSplitter(valid_size=0.2)(y)[0], TimeSplitter(valid_size=200)(y)[0])\n",
    "TimeSplitter(valid_size=0.2, show_plot=True)(y)"
   ]
  },
  {
   "cell_type": "code",
   "execution_count": null,
   "metadata": {},
   "outputs": [
    {
     "name": "stdout",
     "output_type": "stream",
     "text": [
      "stratify set to False as n_splits=5 cannot be greater than the min number of members in each class (1).\n"
     ]
    },
    {
     "data": {
      "image/png": "[encoded data removed]",
      "text/plain": [
       "<Figure size 1152x180 with 1 Axes>"
      ]
     },
     "metadata": {
      "needs_background": "light"
     },
     "output_type": "display_data"
    },
    {
     "data": {
      "text/plain": [
       "(601.11, (#800) [314,194,782,789,502,917,137,415,904,181...])"
      ]
     },
     "execution_count": null,
     "metadata": {},
     "output_type": "execute_result"
    }
   ],
   "source": [
    "n_splits                = 5\n",
    "valid_size              = 0.2  \n",
    "test_size               = 0\n",
    "train_only              = False  # set to True for debugging (valid = train)\n",
    "train_size              = None\n",
    "stratify                = True\n",
    "balance                 = True\n",
    "shuffle                 = True\n",
    "predefined_splits       = None\n",
    "show_plot               = True \n",
    "\n",
    "\n",
    "check_splits = True\n",
    "random_state = 23\n",
    "\n",
    "splits = get_splits(y, n_splits=n_splits, valid_size=valid_size, test_size=test_size, shuffle=shuffle, balance=balance, stratify=stratify,\n",
    "                    train_only=train_only, train_size=train_size, check_splits=check_splits, random_state=random_state, show_plot=show_plot, verbose=True)\n",
    "split = splits[0] if n_splits == 1 else splits[0][0]\n",
    "y[split].mean(), split"
   ]
  },
  {
   "cell_type": "code",
   "execution_count": null,
   "metadata": {},
   "outputs": [
    {
     "data": {
      "text/plain": [
       "[((#800) [314,194,782,789,502,917,137,415,904,181...],\n",
       "  (#200) [362,151,934,378,95,597,500,117,980,844...]),\n",
       " ((#800) [312,198,777,788,515,910,145,413,898,186...],\n",
       "  (#200) [352,133,955,396,64,596,442,79,991,882...]),\n",
       " ((#800) [311,197,783,791,507,922,145,416,908,184...],\n",
       "  (#200) [338,125,912,361,54,594,486,88,994,859...]),\n",
       " ((#800) [296,181,782,789,493,917,130,401,905,165...],\n",
       "  (#200) [405,199,953,444,113,610,515,137,997,881...]),\n",
       " ((#800) [320,190,782,788,506,906,141,412,893,178...],\n",
       "  (#200) [336,149,942,358,49,582,472,70,990,907...])]"
      ]
     },
     "execution_count": null,
     "metadata": {},
     "output_type": "execute_result"
    }
   ],
   "source": [
    "list([splits[0], splits[1], splits[2], splits[3], splits[4]])"
   ]
  },
  {
   "cell_type": "code",
   "execution_count": null,
   "metadata": {},
   "outputs": [
    {
     "name": "stdout",
     "output_type": "stream",
     "text": [
      "stratify set to False as n_splits=5 cannot be greater than the min number of members in each class (1).\n",
      "valid == train\n"
     ]
    },
    {
     "data": {
      "image/png": "[encoded data removed]",
      "text/plain": [
       "<Figure size 1152x180 with 1 Axes>"
      ]
     },
     "metadata": {
      "needs_background": "light"
     },
     "output_type": "display_data"
    }
   ],
   "source": [
    "n_splits = 5\n",
    "valid_size = 0.\n",
    "test_size = 0.\n",
    "shuffle = True\n",
    "stratify = True\n",
    "train_only = True\n",
    "train_size = None\n",
    "check_splits = True\n",
    "random_state = 1\n",
    "show_plot = True \n",
    "\n",
    "splits = get_splits(y, n_splits=n_splits, valid_size=valid_size, test_size=test_size, shuffle=shuffle, stratify=stratify,\n",
    "                    train_only=train_only, train_size=train_size, check_splits=check_splits, random_state=random_state, show_plot=show_plot, verbose=True)\n",
    "for split in splits: \n",
    "    test_eq(len(split[0]), len(y))\n",
    "    test_eq(np.sort(split[0]), np.arange(len(y)))"
   ]
  },
  {
   "cell_type": "code",
   "execution_count": null,
   "metadata": {},
   "outputs": [
    {
     "data": {
      "image/png": "[encoded data removed]",
      "text/plain": [
       "<Figure size 1152x180 with 1 Axes>"
      ]
     },
     "metadata": {
      "needs_background": "light"
     },
     "output_type": "display_data"
    },
    {
     "data": {
      "image/png": "[encoded data removed]",
      "text/plain": [
       "<Figure size 1152x180 with 1 Axes>"
      ]
     },
     "metadata": {
      "needs_background": "light"
     },
     "output_type": "display_data"
    }
   ],
   "source": [
    "n_splits = 5\n",
    "y = np.random.randint(0, 2, 1000)\n",
    "\n",
    "splits = get_splits(y, n_splits=n_splits, shuffle=False, check_splits=True)\n",
    "test_eq(np.concatenate((L(zip(*splits))[1])), np.arange(len(y)))\n",
    "\n",
    "splits = get_splits(y, n_splits=n_splits, shuffle=True, check_splits=True)\n",
    "test_eq(np.sort(np.concatenate((L(zip(*splits))[1]))), np.arange(len(y)))"
   ]
  },
  {
   "cell_type": "code",
   "execution_count": null,
   "metadata": {},
   "outputs": [
    {
     "data": {
      "image/png": "[encoded data removed]",
      "text/plain": [
       "<Figure size 1152x72 with 1 Axes>"
      ]
     },
     "metadata": {
      "needs_background": "light"
     },
     "output_type": "display_data"
    }
   ],
   "source": [
    "n_splits = 2\n",
    "y = np.random.randint(0, 2, 1000)\n",
    "\n",
    "splits = get_splits(y, n_splits=n_splits, test_size=0.2, shuffle=False)\n",
    "for i in range(n_splits): leakage_finder(*splits[i])\n",
    "test_eq(len(splits), n_splits)\n",
    "test_eq(len(splits[0]), 3)\n",
    "s = []\n",
    "[s.extend(split) for split in splits[0]]\n",
    "test_eq(np.sort(s), np.arange(len(y)))\n",
    "s = []\n",
    "[s.extend(split) for split in splits[1]]\n",
    "test_eq(np.sort(s), np.arange(len(y)))"
   ]
  },
  {
   "cell_type": "code",
   "execution_count": null,
   "metadata": {},
   "outputs": [
    {
     "data": {
      "image/png": "[encoded data removed]",
      "text/plain": [
       "<Figure size 1152x36 with 1 Axes>"
      ]
     },
     "metadata": {
      "needs_background": "light"
     },
     "output_type": "display_data"
    },
    {
     "data": {
      "image/png": "[encoded data removed]",
      "text/plain": [
       "<Figure size 1152x36 with 1 Axes>"
      ]
     },
     "metadata": {
      "needs_background": "light"
     },
     "output_type": "display_data"
    },
    {
     "data": {
      "image/png": "[encoded data removed]",
      "text/plain": [
       "<Figure size 1152x36 with 1 Axes>"
      ]
     },
     "metadata": {
      "needs_background": "light"
     },
     "output_type": "display_data"
    },
    {
     "data": {
      "image/png": "[encoded data removed]",
      "text/plain": [
       "<Figure size 1152x36 with 1 Axes>"
      ]
     },
     "metadata": {
      "needs_background": "light"
     },
     "output_type": "display_data"
    }
   ],
   "source": [
    "y = np.random.randint(0, 2, 1000)\n",
    "splits1 = get_splits(y, valid_size=.25, test_size=0, random_state=23, stratify=True, shuffle=True)\n",
    "splits2 = get_splits(y, valid_size=.25, test_size=0, random_state=23, stratify=True, shuffle=True)\n",
    "splits3 = get_splits(y, valid_size=.25, test_size=0, random_state=None, stratify=True, shuffle=True)\n",
    "splits4 = get_splits(y, valid_size=.25, test_size=0, random_state=None, stratify=True, shuffle=True)\n",
    "test_eq(splits1[0], splits2[0])\n",
    "test_ne(splits3[0], splits4[0])"
   ]
  },
  {
   "cell_type": "code",
   "execution_count": null,
   "metadata": {},
   "outputs": [
    {
     "data": {
      "image/png": "[encoded data removed]",
      "text/plain": [
       "<Figure size 1152x36 with 1 Axes>"
      ]
     },
     "metadata": {
      "needs_background": "light"
     },
     "output_type": "display_data"
    }
   ],
   "source": [
    "y = np.random.randint(0, 2, 100)\n",
    "splits = get_splits(y, valid_size=.25, test_size=0, random_state=23, stratify=True, shuffle=True)\n",
    "test_eq(len(splits), 2)"
   ]
  },
  {
   "cell_type": "code",
   "execution_count": null,
   "metadata": {},
   "outputs": [
    {
     "data": {
      "image/png": "[encoded data removed]",
      "text/plain": [
       "<Figure size 1152x36 with 1 Axes>"
      ]
     },
     "metadata": {
      "needs_background": "light"
     },
     "output_type": "display_data"
    }
   ],
   "source": [
    "y = np.random.randint(0, 2, 100)\n",
    "splits = get_splits(y, valid_size=.25, test_size=0, random_state=23, stratify=True)\n",
    "test_eq(len(splits), 2)"
   ]
  },
  {
   "cell_type": "code",
   "execution_count": null,
   "metadata": {},
   "outputs": [
    {
     "data": {
      "image/png": "[encoded data removed]",
      "text/plain": [
       "<Figure size 1152x36 with 1 Axes>"
      ]
     },
     "metadata": {
      "needs_background": "light"
     },
     "output_type": "display_data"
    }
   ],
   "source": [
    "y = np.random.randint(0, 2, 100)\n",
    "splits = get_splits(y, valid_size=.25, test_size=20, random_state=23, stratify=True)\n",
    "test_eq(len(splits), 3)\n",
    "leakage_finder(*splits)"
   ]
  },
  {
   "cell_type": "code",
   "execution_count": null,
   "metadata": {},
   "outputs": [],
   "source": [
    "splits = TrainValidTestSplitter(valid_size=.25, test_size=20, random_state=23, stratify=True)(np.random.randint(0, 2, 100))\n",
    "test_eq(len(splits[1]), 25)\n",
    "test_eq(len(splits[2]), 20)"
   ]
  },
  {
   "cell_type": "code",
   "execution_count": null,
   "metadata": {},
   "outputs": [
    {
     "data": {
      "image/png": "[encoded data removed]",
      "text/plain": [
       "<Figure size 1152x36 with 1 Axes>"
      ]
     },
     "metadata": {
      "needs_background": "light"
     },
     "output_type": "display_data"
    },
    {
     "data": {
      "image/png": "[encoded data removed]",
      "text/plain": [
       "<Figure size 1152x36 with 1 Axes>"
      ]
     },
     "metadata": {
      "needs_background": "light"
     },
     "output_type": "display_data"
    },
    {
     "data": {
      "image/png": "[encoded data removed]",
      "text/plain": [
       "<Figure size 1152x36 with 1 Axes>"
      ]
     },
     "metadata": {
      "needs_background": "light"
     },
     "output_type": "display_data"
    },
    {
     "data": {
      "image/png": "[encoded data removed]",
      "text/plain": [
       "<Figure size 1152x36 with 1 Axes>"
      ]
     },
     "metadata": {
      "needs_background": "light"
     },
     "output_type": "display_data"
    },
    {
     "data": {
      "image/png": "[encoded data removed]",
      "text/plain": [
       "<Figure size 1152x36 with 1 Axes>"
      ]
     },
     "metadata": {
      "needs_background": "light"
     },
     "output_type": "display_data"
    }
   ],
   "source": [
    "o = np.random.randint(0, 2, 1000)\n",
    "for p in [1, .75, .5, .25, .125]:\n",
    "    splits = get_splits(o, train_size=p)\n",
    "    test_eq(len(splits[0]), len(o) * .8 * p)"
   ]
  },
  {
   "cell_type": "code",
   "execution_count": null,
   "metadata": {},
   "outputs": [
    {
     "data": {
      "image/png": "[encoded data removed]",
      "text/plain": [
       "<Figure size 1152x36 with 1 Axes>"
      ]
     },
     "metadata": {
      "needs_background": "light"
     },
     "output_type": "display_data"
    },
    {
     "data": {
      "text/plain": [
       "((#60) [56,0,83,35,86,31,57,84,58,63...],\n",
       " (#20) [23,47,5,71,11,67,18,65,82,30...],\n",
       " (#20) [72,1,46,37,60,20,22,53,38,66...])"
      ]
     },
     "execution_count": null,
     "metadata": {},
     "output_type": "execute_result"
    }
   ],
   "source": [
    "y = L([0] * 50 + [1] * 25 + [2] * 15 + [3] * 10)\n",
    "splits = get_splits(y, valid_size=.2, test_size=.2)\n",
    "test_eq(np.mean(y[splits[0]])==np.mean(y[splits[1]])==np.mean(y[splits[2]]), True)\n",
    "splits"
   ]
  },
  {
   "cell_type": "code",
   "execution_count": null,
   "metadata": {},
   "outputs": [
    {
     "data": {
      "image/png": "[encoded data removed]",
      "text/plain": [
       "<Figure size 1152x36 with 1 Axes>"
      ]
     },
     "metadata": {
      "needs_background": "light"
     },
     "output_type": "display_data"
    },
    {
     "data": {
      "text/plain": [
       "((#60) [0,1,2,3,4,5,6,7,8,9...],\n",
       " (#20) [60,61,62,63,64,65,66,67,68,69...],\n",
       " (#20) [80,81,82,83,84,85,86,87,88,89...])"
      ]
     },
     "execution_count": null,
     "metadata": {},
     "output_type": "execute_result"
    }
   ],
   "source": [
    "y = L([0] * 50 + [1] * 25 + [2] * 15 + [3] * 10)\n",
    "splits = get_splits(y, n_splits=1, valid_size=.2, test_size=.2, shuffle=False)\n",
    "# test_eq(splits[0] + splits[1] + splits[2], np.arange(100))\n",
    "splits"
   ]
  },
  {
   "cell_type": "code",
   "execution_count": null,
   "metadata": {},
   "outputs": [
    {
     "data": {
      "image/png": "[encoded data removed]",
      "text/plain": [
       "<Figure size 1152x36 with 1 Axes>"
      ]
     },
     "metadata": {
      "needs_background": "light"
     },
     "output_type": "display_data"
    }
   ],
   "source": [
    "splits = get_splits(np.random.randint(0,5,100), valid_size=0.213, test_size=17)\n",
    "test_eq(len(splits[1]), 21)\n",
    "test_eq(len(splits[2]), 17)"
   ]
  },
  {
   "cell_type": "code",
   "execution_count": null,
   "metadata": {},
   "outputs": [
    {
     "data": {
      "image/png": "[encoded data removed]",
      "text/plain": [
       "<Figure size 1152x36 with 1 Axes>"
      ]
     },
     "metadata": {
      "needs_background": "light"
     },
     "output_type": "display_data"
    },
    {
     "data": {
      "text/plain": [
       "((#12) [3,89,71,40,37,34,96,90,42,47...],\n",
       " (#21) [33,92,73,21,72,97,38,27,1,6...],\n",
       " (#17) [67,31,10,79,56,12,74,66,2,41...])"
      ]
     },
     "execution_count": null,
     "metadata": {},
     "output_type": "execute_result"
    }
   ],
   "source": [
    "splits = get_splits(np.random.randint(0,5,100), valid_size=0.213, test_size=17, train_size=.2)\n",
    "splits"
   ]
  },
  {
   "cell_type": "code",
   "execution_count": null,
   "metadata": {},
   "outputs": [],
   "source": [
    "#export\n",
    "def get_predefined_splits(*xs):\n",
    "    '''xs is a list with X_train, X_valid, ...'''\n",
    "    splits_ = []\n",
    "    start = 0\n",
    "    for x in xs: \n",
    "        splits_.append(L(list(np.arange(start, start + len(x)))))\n",
    "        start += len(x)\n",
    "    return tuple(splits_)\n",
    "\n",
    "def combine_split_data(xs, ys=None):\n",
    "    '''xs is a list with X_train, X_valid, .... ys is None or a list with y_train, y_valid, .... '''\n",
    "    xs = [to3d(x) for x in xs]\n",
    "    splits = get_predefined_splits(*xs)\n",
    "    if ys is None: return concat(*xs), None, splits\n",
    "    else: return concat(*xs), concat(*ys), splits"
   ]
  },
  {
   "cell_type": "code",
   "execution_count": null,
   "metadata": {},
   "outputs": [],
   "source": [
    "#export\n",
    "def get_splits_len(splits):\n",
    "    _len = []\n",
    "    for split in splits: \n",
    "        if isinstance(split[0], (list, L, tuple)):  _len.append([len(s) for s in split])\n",
    "        else: _len.append(len(split))\n",
    "    return _len"
   ]
  },
  {
   "cell_type": "code",
   "execution_count": null,
   "metadata": {},
   "outputs": [],
   "source": [
    "X_train, y_train, X_valid, y_valid = np.random.rand(3,3,4), np.random.randint(0,2,3), np.random.rand(2,3,4), np.random.randint(0,2,2)\n",
    "X, y, splits = combine_split_data([X_train, X_valid], [y_train, y_valid])\n",
    "test_eq(X_train, X[splits[0]])\n",
    "test_eq(X_valid, X[splits[1]])\n",
    "test_type(X_train, X)\n",
    "test_type(y_train, y)"
   ]
  },
  {
   "cell_type": "code",
   "execution_count": null,
   "metadata": {},
   "outputs": [],
   "source": [
    "X_train, y_train, X_valid, y_valid = np.random.rand(3,4), np.random.randint(0,2,3), np.random.rand(2,4), np.random.randint(0,2,2)\n",
    "X, y, splits = combine_split_data([X_train, X_valid], [y_train, y_valid])\n",
    "test_eq(X_train[:, None], X[splits[0]])\n",
    "test_eq(X_valid[:, None], X[splits[1]])\n",
    "test_type(X_train, X)\n",
    "test_type(y_train, y)"
   ]
  },
  {
   "cell_type": "code",
   "execution_count": null,
   "metadata": {},
   "outputs": [],
   "source": [
    "#hide\n",
    "from tsai.imports import create_scripts\n",
    "from tsai.export import get_nb_name\n",
    "nb_name = get_nb_name()\n",
    "create_scripts(nb_name);"
   ]
  },
  {
   "cell_type": "code",
   "execution_count": null,
   "metadata": {},
   "outputs": [],
   "source": []
  }
 ],
 "metadata": {
  "kernelspec": {
   "display_name": "Python 3 (ipykernel)",
   "language": "python",
   "name": "python3"
  }
 },
 "nbformat": 4,
 "nbformat_minor": 2
}
