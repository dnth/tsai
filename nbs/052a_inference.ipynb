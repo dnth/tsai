{
 "cells": [
  {
   "cell_type": "code",
   "execution_count": null,
   "metadata": {},
   "outputs": [],
   "source": [
    "# default_exp inference"
   ]
  },
  {
   "cell_type": "markdown",
   "metadata": {},
   "source": [
    "# Inference\n",
    "\n",
    "> This contains the code required for inference."
   ]
  },
  {
   "cell_type": "code",
   "execution_count": null,
   "metadata": {},
   "outputs": [],
   "source": [
    "# export\n",
    "from fastai.learner import load_learner\n",
    "from fastai.callback.core import GatherPredsCallback\n",
    "from fastai.learner import Learner\n",
    "from fastcore.basics import patch\n",
    "from fastcore.meta import delegates"
   ]
  },
  {
   "cell_type": "code",
   "execution_count": null,
   "metadata": {},
   "outputs": [],
   "source": [
    "#export\n",
    "@patch\n",
    "@delegates(GatherPredsCallback.__init__)\n",
    "def get_X_preds(self: Learner, X, y=None, bs=64, with_input=False, with_decoded=True, with_loss=False, **kwargs):\n",
    "    if with_loss and y is None:\n",
    "        print('cannot find loss as y=None')\n",
    "        with_loss = False\n",
    "    dl = self.dls.valid.new_dl(X, y=y)\n",
    "    dl.bs = self.dls.bs if bs is None else bs\n",
    "    output = list(self.get_preds(dl=dl, with_input=with_input, with_decoded=with_decoded, with_loss=with_loss, **kwargs))\n",
    "    if with_decoded and hasattr(self.dls.tls[-1], \"tfms\") and hasattr(self.dls.tls[-1].tfms, \"decodes\"):\n",
    "        output[2 + with_input] = self.dls.tls[-1].tfms.decode(output[2 + with_input])\n",
    "    return tuple(output)"
   ]
  },
  {
   "cell_type": "code",
   "execution_count": null,
   "metadata": {},
   "outputs": [],
   "source": [
    "from tsai.data.external import get_UCR_data\n",
    "dsid = 'OliveOil'\n",
    "X, y, splits = get_UCR_data(dsid, split_data=False)\n",
    "X_test = X[splits[1]]\n",
    "y_test = y[splits[1]]"
   ]
  },
  {
   "cell_type": "code",
   "execution_count": null,
   "metadata": {},
   "outputs": [],
   "source": [
    "learn = load_learner(\"./models/test.pth\")"
   ]
  },
  {
   "cell_type": "code",
   "execution_count": null,
   "metadata": {},
   "outputs": [
    {
     "data": {
      "text/html": [],
      "text/plain": [
       "<IPython.core.display.HTML object>"
      ]
     },
     "metadata": {},
     "output_type": "display_data"
    },
    {
     "data": {
      "text/plain": [
       "(tensor([[0.2232, 0.2730, 0.2218, 0.2820],\n",
       "         [0.2232, 0.2730, 0.2219, 0.2820],\n",
       "         [0.2232, 0.2730, 0.2218, 0.2820],\n",
       "         [0.2232, 0.2730, 0.2218, 0.2820],\n",
       "         [0.2232, 0.2730, 0.2218, 0.2820],\n",
       "         [0.2232, 0.2730, 0.2218, 0.2820],\n",
       "         [0.2232, 0.2730, 0.2218, 0.2820],\n",
       "         [0.2232, 0.2730, 0.2218, 0.2820],\n",
       "         [0.2232, 0.2730, 0.2218, 0.2820],\n",
       "         [0.2232, 0.2730, 0.2218, 0.2820],\n",
       "         [0.2232, 0.2730, 0.2218, 0.2820],\n",
       "         [0.2232, 0.2730, 0.2218, 0.2820],\n",
       "         [0.2232, 0.2730, 0.2218, 0.2820],\n",
       "         [0.2232, 0.2730, 0.2218, 0.2820],\n",
       "         [0.2232, 0.2730, 0.2218, 0.2820],\n",
       "         [0.2231, 0.2729, 0.2220, 0.2820],\n",
       "         [0.2232, 0.2730, 0.2218, 0.2820],\n",
       "         [0.2232, 0.2730, 0.2218, 0.2820],\n",
       "         [0.2232, 0.2730, 0.2218, 0.2820],\n",
       "         [0.2232, 0.2730, 0.2218, 0.2820],\n",
       "         [0.2232, 0.2730, 0.2218, 0.2820],\n",
       "         [0.2232, 0.2730, 0.2218, 0.2820],\n",
       "         [0.2232, 0.2730, 0.2218, 0.2820],\n",
       "         [0.2232, 0.2730, 0.2218, 0.2820],\n",
       "         [0.2232, 0.2730, 0.2218, 0.2820],\n",
       "         [0.2232, 0.2730, 0.2218, 0.2820],\n",
       "         [0.2232, 0.2730, 0.2218, 0.2820],\n",
       "         [0.2232, 0.2730, 0.2218, 0.2820],\n",
       "         [0.2232, 0.2730, 0.2218, 0.2820],\n",
       "         [0.2232, 0.2730, 0.2218, 0.2820]]),\n",
       " None,\n",
       " array(['4', '4', '4', '4', '4', '4', '4', '4', '4', '4', '4', '4', '4',\n",
       "        '4', '4', '4', '4', '4', '4', '4', '4', '4', '4', '4', '4', '4',\n",
       "        '4', '4', '4', '4'], dtype='<U1'))"
      ]
     },
     "execution_count": null,
     "metadata": {},
     "output_type": "execute_result"
    }
   ],
   "source": [
    "test_probas, test_targets, test_preds = learn.get_X_preds(X_test, with_decoded=True)\n",
    "test_probas, test_targets, test_preds"
   ]
  },
  {
   "cell_type": "code",
   "execution_count": null,
   "metadata": {},
   "outputs": [
    {
     "data": {
      "text/html": [],
      "text/plain": [
       "<IPython.core.display.HTML object>"
      ]
     },
     "metadata": {},
     "output_type": "display_data"
    },
    {
     "data": {
      "text/plain": [
       "(tensor([[0.2232, 0.2730, 0.2218, 0.2820],\n",
       "         [0.2232, 0.2730, 0.2219, 0.2820],\n",
       "         [0.2232, 0.2730, 0.2218, 0.2820],\n",
       "         [0.2232, 0.2730, 0.2218, 0.2820],\n",
       "         [0.2232, 0.2730, 0.2218, 0.2820],\n",
       "         [0.2232, 0.2730, 0.2218, 0.2820],\n",
       "         [0.2232, 0.2730, 0.2218, 0.2820],\n",
       "         [0.2232, 0.2730, 0.2218, 0.2820],\n",
       "         [0.2232, 0.2730, 0.2218, 0.2820],\n",
       "         [0.2232, 0.2730, 0.2218, 0.2820],\n",
       "         [0.2232, 0.2730, 0.2218, 0.2820],\n",
       "         [0.2232, 0.2730, 0.2218, 0.2820],\n",
       "         [0.2232, 0.2730, 0.2218, 0.2820],\n",
       "         [0.2232, 0.2730, 0.2218, 0.2820],\n",
       "         [0.2232, 0.2730, 0.2218, 0.2820],\n",
       "         [0.2231, 0.2729, 0.2220, 0.2820],\n",
       "         [0.2232, 0.2730, 0.2218, 0.2820],\n",
       "         [0.2232, 0.2730, 0.2218, 0.2820],\n",
       "         [0.2232, 0.2730, 0.2218, 0.2820],\n",
       "         [0.2232, 0.2730, 0.2218, 0.2820],\n",
       "         [0.2232, 0.2730, 0.2218, 0.2820],\n",
       "         [0.2232, 0.2730, 0.2218, 0.2820],\n",
       "         [0.2232, 0.2730, 0.2218, 0.2820],\n",
       "         [0.2232, 0.2730, 0.2218, 0.2820],\n",
       "         [0.2232, 0.2730, 0.2218, 0.2820],\n",
       "         [0.2232, 0.2730, 0.2218, 0.2820],\n",
       "         [0.2232, 0.2730, 0.2218, 0.2820],\n",
       "         [0.2232, 0.2730, 0.2218, 0.2820],\n",
       "         [0.2232, 0.2730, 0.2218, 0.2820],\n",
       "         [0.2232, 0.2730, 0.2218, 0.2820]]),\n",
       " TensorCategory([0, 0, 0, 0, 0, 1, 1, 1, 1, 1, 1, 1, 1, 1, 2, 2, 2, 2, 3, 3, 3, 3, 3, 3,\n",
       "         3, 3, 3, 3, 3, 3]),\n",
       " array(['4', '4', '4', '4', '4', '4', '4', '4', '4', '4', '4', '4', '4',\n",
       "        '4', '4', '4', '4', '4', '4', '4', '4', '4', '4', '4', '4', '4',\n",
       "        '4', '4', '4', '4'], dtype='<U1'))"
      ]
     },
     "execution_count": null,
     "metadata": {},
     "output_type": "execute_result"
    }
   ],
   "source": [
    "test_probas2, test_targets2, test_preds2 = learn.get_X_preds(X_test, y_test, with_decoded=True)\n",
    "test_probas2, test_targets2, test_preds2"
   ]
  },
  {
   "cell_type": "code",
   "execution_count": null,
   "metadata": {},
   "outputs": [],
   "source": [
    "from fastcore.test import test_eq\n",
    "test_eq(test_probas, test_probas2)\n",
    "test_eq(test_preds, test_preds2)"
   ]
  },
  {
   "cell_type": "code",
   "execution_count": null,
   "metadata": {},
   "outputs": [
    {
     "data": {
      "application/javascript": [
       "IPython.notebook.save_checkpoint();"
      ],
      "text/plain": [
       "<IPython.core.display.Javascript object>"
      ]
     },
     "metadata": {},
     "output_type": "display_data"
    },
    {
     "name": "stdout",
     "output_type": "stream",
     "text": [
      "052a_inference.ipynb saved at 2021-11-24 17:09:33.\n",
      "Converted 052a_inference.ipynb.\n",
      "\n",
      "\n",
      "Correct conversion! 😃\n",
      "Total time elapsed 0.085 s\n",
      "Wednesday 24/11/21 17:09:36 CET\n"
     ]
    },
    {
     "data": {
      "text/html": [
       "\n",
       "                <audio  controls=\"controls\" autoplay=\"autoplay\">\n",
       "                    <source src=\"data:audio/wav;base64,UklGRvQHAABXQVZFZm10IBAAAAABAAEAECcAACBOAAACABAAZGF0YdAHAAAAAPF/iPh/gOoOon6w6ayCoR2ZeyfbjobxK+F2Hs0XjKc5i3DGvzaTlEaraE+zz5uLUl9f46fHpWJdxVSrnfmw8mYEScqUP70cb0Q8X41uysJ1si6Eh1jYzXp9IE2DzOYsftYRyoCY9dJ/8QICgIcEun8D9PmAaBPlfT7lq4MFIlh61tYPiCswIHX+yBaOqT1QbuW7qpVQSv9lu6+xnvRVSlyopAypbGBTUdSalrSTaUBFYpInwUpxOzhti5TOdndyKhCGrdwAfBUcXIJB69p+Vw1egB76+n9q/h6ADglbf4LvnIHfF/981ODThF4m8HiS0riJVjQ6c+/EOZCYQfJrGrhBmPVNMmNArLKhQlkXWYqhbaxXY8ZNHphLuBJsZUEckCTFVHMgNKGJytIDeSUmw4QN4Qx9pReTgb3vYX/TCBuApf75f+P5Y4CRDdN+B+tngk8c8nt03CKGqipgd13OhotwOC5x9MCAknFFcmlmtPmagFFFYOCo0qRzXMhVi57pryNmIEqJlRi8bm52PfuNM8k4dfQv+4cO12l6zCGdg3jl730uE/KAPvS+f0wEAoAsA89/XfXQgBESIn6S5luDtiC8eh/YmIfpLqt1OMp5jXg8/24MveqUNUnPZsqw0Z3yVDldnaUOqIZfXlKrm36zzWhjRhaT+r+ncHI5/otUzfd2uSt7hl/bqXtoHaCC6+mqfrAOeoDD+PJ/xf8RgLMHfH/b8GeBihZIfSXidoQSJWB52NM1iRkzz3MkxpKPbUCrbDu5d5fgTAxkSK3JoEhYD1p2omere2LZTuqYLbdWa49Cx5Dww7tyXDUnioXRkHhwJyKFvd/AfPoYy4Fl7j1/LQorgEr9/X89+0qAOAwAf13sJoL8Gkd8wt25hWIp3Heez/eKODfPcSPCzpFNRDVqf7UlmnNQKGHgqd+jgVvJVm2f265QZTpLS5byur1tpT6ajvrHq3Q2MXWIxtUCehoj8YMk5LB9hRQegeTypn+nBQWA0QHgf7f2q4C5EFt+5ucOg2YfHXtq2SSHpS0ydnTL4IxFO6pvNb4ulBdInWfcsfSc7VMmXpSmE6eeXmZThJxpsgRohEfOk86+AHCoOpOMFsx1dv8s6oYT2k17uR7ngpXod34IEJqAaPfnfyABCIBZBpl/NPI2gTQVjX134x2ExSPMeR7VtYjZMWJ0W8ftjkA/YW1durCWykvjZFKu4p9LVwVbZKNkqpxh6U+6mRC2mGq2Q3SRvsIgcpc2sIpD0Bp4uiiFhW3ecXxOGgaCDe0Vf4cLPoDv+/5/mfw1gN4KKX+17emBqBmYfBHfVYUZKFR44NBtiv41bHJUwx+RJkP1apu2VJlkTwli4qrwoo1ax1dToNCtemRSTBGXz7kJbdM/PY/Dxht0dTLziH7Ul3loJEiE0uJsfdsVTYGL8Yt/AgcMgHYA7X8S+IqAYA+QfjzpxIIVHnp7tdqzhmAstXaxzEqMETpScGC/dJP3Rmdo8LIZnOVSEF+Opxumsl1sVF+dVrE5Z6NIiZSkvVdv2zsqjdnK8HVDLlyHyNjuegogM4NA5z9+YRG9gA722H97AgOA/gSyf43zCIHdE899yuTIg3ciNXpm1jmImTDwdJPITI4RPhRugbvslbFKt2Vfr/6eTFb4W1WkY6m6YPdQjJr2tNZp3EQlko7BgXHRNz2LAc+gdwMq7IUf3R58ohtFgrbr6n7hDFWAlPr8f/T9I4CECU9/De+vgVQY5nxh4POEzybJeCTS5YnCNAZzhsRzkP1Bsmu4t4aYU07nYuerA6KWWcJYO6HHrKJjaE3Zl624UWz/QOOPjcWHc7QzdIk40yl5tCWjhIDhJX0xF4CBMvBsf10IF4Ac//Z/bPlsgAcOwn6S6n6CwxzUewLcRoYaKzV38M23i9o493CNwL6S1UUuaQe0QpvbUfdfiqglpcRccFU+nkWwambASUiVfLyqbg49xY2eyWh1hy/Sh37XjHpaIYKD7OUEfrgS5IC09MV/1gMBgKMDyH/n9N6AhhINfh7mdoMoIZt6r9fAh1cvfHXNya6N4DzDbqi8K5WWSYlmbbAdnkpV6FxJpWSo1V8DUmGb3rMRaQBG2JJgwN9wCDnNi8HNI3dKK1aG0dvHe/UciIJf6rt+Og5wgDn59X9P/xWAKQhxf2XweYH+FjB9suGVhIMlOnlo02GJhTOdc7vFyo/TQGxs2Li7lz9NwmPurBihnVi7WSWiwKvGYntOpJiOt5drKUKMkFnE8HLxNPmJ9NG4eP8mAYUv4Np8hhi3gdruSX+3CSWAwP38f8f6UoCuDPF+6Os8gnAbKnxQ3d2F0imydzDPKIuiN5lxu8EKkrFE82kftW2az1DbYImpMqTUW3FWIJ83r5hl2koJlla7+m0+PmSOZcjcdMgwS4g11iZ6qCLUg5jkxn0QFA6BWvOvfzEFBIBHAtp/Qfa3gC4RSH5y5yeD2B/8evnYS4cULgR2CMsUja47cG/QvW6UeEhXZ3+xP51GVNVdP6Zpp+1eDFM5nMeySWghR4+TNL85cD46YIyCzKJ2kCzEhoTabXtGHs+CCemJfpMPjoDe9+t/qQALgM8Gj3++8UaBqRV2fQTjO4Q3JKd5r9TgiEYyMHTxxiWPpz8jbfq585YpTJpk960xoKFXsVoTo7yq6GGMTw==\" type=\"audio/wav\" />\n",
       "                    Your browser does not support the audio element.\n",
       "                </audio>\n",
       "              "
      ],
      "text/plain": [
       "<IPython.lib.display.Audio object>"
      ]
     },
     "metadata": {},
     "output_type": "display_data"
    }
   ],
   "source": [
    "#hide\n",
    "from tsai.imports import create_scripts\n",
    "from tsai.export import get_nb_name\n",
    "nb_name = get_nb_name()\n",
    "create_scripts(nb_name);"
   ]
  },
  {
   "cell_type": "code",
   "execution_count": null,
   "metadata": {},
   "outputs": [],
   "source": []
  }
 ],
 "metadata": {
  "kernelspec": {
   "display_name": "Python 3",
   "language": "python",
   "name": "python3"
  }
 },
 "nbformat": 4,
 "nbformat_minor": 4
}
