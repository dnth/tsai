{
 "cells": [
  {
   "cell_type": "code",
   "execution_count": null,
   "metadata": {},
   "outputs": [],
   "source": [
    "# default_exp models.explainability"
   ]
  },
  {
   "cell_type": "markdown",
   "metadata": {},
   "source": [
    "# Model explainability\n",
    "> Functionality to help with both global and local explainability."
   ]
  },
  {
   "cell_type": "code",
   "execution_count": null,
   "metadata": {},
   "outputs": [],
   "source": [
    "#export\n",
    "from tsai.imports import *\n",
    "from tsai.utils import *\n",
    "from tsai.models.layers import *\n",
    "from tsai.models.utils import *"
   ]
  },
  {
   "cell_type": "code",
   "execution_count": null,
   "metadata": {},
   "outputs": [
    {
     "data": {
      "text/plain": [
       "torch.Size([64, 6])"
      ]
     },
     "execution_count": null,
     "metadata": {},
     "output_type": "execute_result"
    }
   ],
   "source": [
    "from tsai.data.all import *\n",
    "from tsai.models.XCM import *\n",
    "\n",
    "dsid = 'NATOPS'\n",
    "X, y, splits = get_UCR_data(dsid, split_data=False)\n",
    "tfms = [None, Categorize()]\n",
    "dls = get_ts_dls(X, y, splits=splits, tfms=tfms)\n",
    "model =  XCM(dls.vars, dls.c, dls.len)\n",
    "learn = Learner(dls, model, metrics=accuracy)\n",
    "xb, yb = dls.one_batch()\n",
    "x = xb[0]\n",
    "model.eval().to(xb.device)(xb).shape"
   ]
  },
  {
   "cell_type": "code",
   "execution_count": null,
   "metadata": {},
   "outputs": [],
   "source": [
    "#export\n",
    "def get_acts_and_grads(model, modules, x, y=None, detach=True, cpu=False):\n",
    "    r\"\"\"Returns activations and gradients for given modules in a model and a single input or a batch. \n",
    "    Gradients require y value(s). If they rae not provided, it will use the predicttions. \"\"\"\n",
    "    if not is_listy(modules): modules = [modules]\n",
    "    x = x[None, None] if x.ndim == 1 else x[None] if x.ndim == 2 else x\n",
    "    with hook_outputs(modules, detach=detach, cpu=cpu) as h_act:\n",
    "        with hook_outputs(modules, grad=True, detach=detach, cpu=cpu) as h_grad:\n",
    "            preds = model.eval()(x)\n",
    "            if y is None: preds.max(dim=-1).values.mean().backward()\n",
    "            else: \n",
    "                if preds.shape[0] == 1: preds[0, y].backward()\n",
    "                else: \n",
    "                    if y.ndim == 1: y = y.reshape(-1, 1)\n",
    "                    torch_slice_by_dim(preds, y).mean().backward()\n",
    "    if len(modules) == 1: return h_act.stored[0].data, h_grad.stored[0][0].data\n",
    "    else: return [h.data for h in h_act.stored], [h[0].data for h in h_grad.stored]\n",
    "\n",
    "\n",
    "def get_attribution_map(model, modules, x, y=None, detach=True, cpu=False, apply_relu=True):\n",
    "    def _get_attribution_map(A_k, w_ck):\n",
    "        dim = (0, 2, 3) if A_k.ndim == 4 else (0, 2)\n",
    "        w_ck = w_ck.mean(dim, keepdim=True)\n",
    "        L_c = (w_ck * A_k).sum(1)\n",
    "        if apply_relu: L_c = nn.ReLU()(L_c)\n",
    "        if L_c.ndim == 3:  return L_c.squeeze(0) if L_c.shape[0] == 1 else L_c\n",
    "        else: return L_c.repeat(x.shape[1], 1) if L_c.shape[0] == 1 else L_c.unsqueeze(1).repeat(1, x.shape[1], 1)\n",
    "    if x.ndim == 1: x = x[None, None]\n",
    "    elif x.ndim == 2: x = x[None]\n",
    "    A_k, w_ck = get_acts_and_grads(model, modules, x, y, detach=detach, cpu=cpu)\n",
    "    if is_listy(A_k): return [_get_attribution_map(A_k[i], w_ck[i]) for i in range(len(A_k))]\n",
    "    else: return _get_attribution_map(A_k, w_ck)"
   ]
  },
  {
   "cell_type": "code",
   "execution_count": null,
   "metadata": {},
   "outputs": [
    {
     "name": "stderr",
     "output_type": "stream",
     "text": [
      "/Users/nacho/opt/anaconda3/envs/py36/lib/python3.6/site-packages/torch/nn/modules/module.py:974: UserWarning: Using a non-full backward hook when the forward contains multiple autograd Nodes is deprecated and will be removed in future versions. This hook will be missing some grad_input. Please use register_full_backward_hook to get the documented behavior.\n",
      "  warnings.warn(\"Using a non-full backward hook when the forward contains multiple autograd Nodes \"\n"
     ]
    },
    {
     "data": {
      "text/plain": [
       "(torch.Size([1, 128, 24, 51]), torch.Size([1, 128, 24, 51]))"
      ]
     },
     "execution_count": null,
     "metadata": {},
     "output_type": "execute_result"
    }
   ],
   "source": [
    "acts, grads = get_acts_and_grads(model, model.conv2dblock, x)\n",
    "acts.shape, grads.shape"
   ]
  },
  {
   "cell_type": "code",
   "execution_count": null,
   "metadata": {},
   "outputs": [
    {
     "data": {
      "text/plain": [
       "(torch.Size([64, 128, 24, 51]), torch.Size([64, 128, 24, 51]))"
      ]
     },
     "execution_count": null,
     "metadata": {},
     "output_type": "execute_result"
    }
   ],
   "source": [
    "acts, grads = get_acts_and_grads(model, model.conv2dblock, xb)\n",
    "acts.shape, grads.shape"
   ]
  },
  {
   "cell_type": "code",
   "execution_count": null,
   "metadata": {},
   "outputs": [
    {
     "data": {
      "text/plain": [
       "(torch.Size([64, 128, 24, 51]), torch.Size([64, 128, 24, 51]))"
      ]
     },
     "execution_count": null,
     "metadata": {},
     "output_type": "execute_result"
    }
   ],
   "source": [
    "acts, grads = get_acts_and_grads(model, model.conv2dblock, xb, yb)\n",
    "acts.shape, grads.shape"
   ]
  },
  {
   "cell_type": "code",
   "execution_count": null,
   "metadata": {},
   "outputs": [
    {
     "data": {
      "text/plain": [
       "(torch.Size([64, 128, 51]), torch.Size([64, 128, 51]))"
      ]
     },
     "execution_count": null,
     "metadata": {},
     "output_type": "execute_result"
    }
   ],
   "source": [
    "acts, grads = get_acts_and_grads(model, model.conv1dblock, xb)\n",
    "acts.shape, grads.shape"
   ]
  },
  {
   "cell_type": "code",
   "execution_count": null,
   "metadata": {},
   "outputs": [
    {
     "data": {
      "text/plain": [
       "([torch.Size([64, 128, 24, 51]), torch.Size([64, 128, 51])],\n",
       " [torch.Size([64, 128, 24, 51]), torch.Size([64, 128, 51])])"
      ]
     },
     "execution_count": null,
     "metadata": {},
     "output_type": "execute_result"
    }
   ],
   "source": [
    "acts, grads = get_acts_and_grads(model, [model.conv2dblock, model.conv1dblock], xb, yb)\n",
    "[act.shape for act in acts], [grad.shape for grad in grads]"
   ]
  },
  {
   "cell_type": "code",
   "execution_count": null,
   "metadata": {},
   "outputs": [
    {
     "data": {
      "text/plain": [
       "torch.Size([64, 24, 51])"
      ]
     },
     "execution_count": null,
     "metadata": {},
     "output_type": "execute_result"
    }
   ],
   "source": [
    "att_maps = get_attribution_map(model, model.conv2dblock, xb, yb)\n",
    "att_maps.shape"
   ]
  },
  {
   "cell_type": "code",
   "execution_count": null,
   "metadata": {},
   "outputs": [
    {
     "data": {
      "text/plain": [
       "torch.Size([64, 24, 51])"
      ]
     },
     "execution_count": null,
     "metadata": {},
     "output_type": "execute_result"
    }
   ],
   "source": [
    "att_maps = get_attribution_map(model, model.conv1dblock, xb)\n",
    "att_maps.shape"
   ]
  },
  {
   "cell_type": "code",
   "execution_count": null,
   "metadata": {},
   "outputs": [
    {
     "data": {
      "text/plain": [
       "[torch.Size([64, 24, 51]), torch.Size([64, 24, 51])]"
      ]
     },
     "execution_count": null,
     "metadata": {},
     "output_type": "execute_result"
    }
   ],
   "source": [
    "att_maps = get_attribution_map(model, [model.conv2dblock, model.conv1dblock], xb)\n",
    "[am.shape for am in att_maps]"
   ]
  },
  {
   "cell_type": "code",
   "execution_count": null,
   "metadata": {},
   "outputs": [
    {
     "name": "stdout",
     "output_type": "stream",
     "text": [
      "2 2 torch.Size([1, 128, 24, 51]) torch.Size([1, 128, 24, 51])\n",
      "torch.Size([1, 128, 24, 51]) torch.Size([1, 128, 24, 51])\n"
     ]
    }
   ],
   "source": [
    "acts, grads = get_acts_and_grads(model, [model.conv2dblock, model.conv1dblock], xb[0], yb[0], detach=True, cpu=False)\n",
    "print(len(acts), len(grads), acts[0].shape, grads[0].shape)\n",
    "acts, grads = get_acts_and_grads(model, model.conv2dblock, xb[0], y=None, detach=True, cpu=False)\n",
    "print(acts.shape, grads.shape)"
   ]
  },
  {
   "cell_type": "code",
   "execution_count": null,
   "metadata": {},
   "outputs": [
    {
     "data": {
      "text/plain": [
       "torch.Size([24, 51])"
      ]
     },
     "execution_count": null,
     "metadata": {},
     "output_type": "execute_result"
    }
   ],
   "source": [
    "att_maps = get_attribution_map(model, model.conv2dblock, x)\n",
    "att_maps.shape"
   ]
  },
  {
   "cell_type": "code",
   "execution_count": null,
   "metadata": {},
   "outputs": [
    {
     "data": {
      "text/plain": [
       "torch.Size([24, 51])"
      ]
     },
     "execution_count": null,
     "metadata": {},
     "output_type": "execute_result"
    }
   ],
   "source": [
    "att_maps = get_attribution_map(model, model.conv1dblock, x)\n",
    "att_maps.shape"
   ]
  },
  {
   "cell_type": "code",
   "execution_count": null,
   "metadata": {},
   "outputs": [
    {
     "data": {
      "text/plain": [
       "[torch.Size([24, 51]), torch.Size([24, 51])]"
      ]
     },
     "execution_count": null,
     "metadata": {},
     "output_type": "execute_result"
    }
   ],
   "source": [
    "att_maps = get_attribution_map(model, [model.conv2dblock, model.conv1dblock], x)\n",
    "[am.shape for am in att_maps]"
   ]
  },
  {
   "cell_type": "code",
   "execution_count": null,
   "metadata": {},
   "outputs": [
    {
     "data": {
      "image/png": "[encoded data removed]",
      "text/plain": [
       "<Figure size 720x720 with 2 Axes>"
      ]
     },
     "metadata": {
      "needs_background": "light"
     },
     "output_type": "display_data"
    },
    {
     "data": {
      "image/png": "[encoded data removed]",
      "text/plain": [
       "<Figure size 720x720 with 2 Axes>"
      ]
     },
     "metadata": {
      "needs_background": "light"
     },
     "output_type": "display_data"
    }
   ],
   "source": [
    "att_maps = get_attribution_map(model, [model.conv2dblock, model.conv1dblock], x)\n",
    "att_maps[0] = (att_maps[0] - att_maps[0].min()) / (att_maps[0].max() - att_maps[0].min())\n",
    "att_maps[1] = (att_maps[1] - att_maps[1].min()) / (att_maps[1].max() - att_maps[1].min())\n",
    "\n",
    "fig = plt.figure(figsize=(10, 10))\n",
    "ax = plt.axes()\n",
    "plt.title('Observed variables')\n",
    "im = ax.imshow(att_maps[0].cpu().numpy(), cmap='inferno')\n",
    "cax = fig.add_axes([ax.get_position().x1+0.01,ax.get_position().y0,0.02,ax.get_position().height])\n",
    "plt.colorbar(im, cax=cax)\n",
    "plt.show()\n",
    "\n",
    "fig = plt.figure(figsize=(10, 10))\n",
    "ax = plt.axes()\n",
    "plt.title('Time')\n",
    "im = ax.imshow(att_maps[1].cpu().numpy(), cmap='inferno')\n",
    "cax = fig.add_axes([ax.get_position().x1+0.01,ax.get_position().y0,0.02,ax.get_position().height])\n",
    "plt.colorbar(im, cax=cax)\n",
    "plt.show()"
   ]
  },
  {
   "cell_type": "code",
   "execution_count": null,
   "metadata": {},
   "outputs": [],
   "source": [
    "# '''\n",
    "# Color parts of a line based on its properties, e.g., slope.\n",
    "# '''\n",
    "\n",
    "# import numpy as np\n",
    "# import matplotlib.pyplot as plt\n",
    "# from matplotlib.collections import LineCollection\n",
    "# from matplotlib.colors import ListedColormap, BoundaryNorm\n",
    "\n",
    "# x = np.linspace(0, 3 * np.pi, 500)\n",
    "# y = np.sin(x)\n",
    "# z = np.cos(0.5 * (x[:-1] + x[1:]))  # first derivative\n",
    "\n",
    "# # Create a colormap for red, green and blue and a norm to color\n",
    "# # f' < -0.5 red, f' > 0.5 blue, and the rest green\n",
    "# cmap = ListedColormap(['r', 'g', 'b'])\n",
    "# norm = BoundaryNorm([-1, -0.5, 0.5, 1], cmap.N)\n",
    "\n",
    "# # Create a set of line segments so that we can color them individually\n",
    "# # This creates the points as a N x 1 x 2 array so that we can stack points\n",
    "# # together easily to get the segments. The segments array for line collection\n",
    "# # needs to be numlines x points per line x 2 (x and y)\n",
    "# points = np.array([x, y]).T.reshape(-1, 1, 2)\n",
    "# segments = np.concatenate([points[:-1], points[1:]], axis=1)\n",
    "\n",
    "# # Create the line collection object, setting the colormapping parameters.\n",
    "# # Have to set the actual values used for colormapping separately.\n",
    "# lc = LineCollection(segments, cmap=cmap, norm=norm)\n",
    "# lc.set_array(z)\n",
    "# lc.set_linewidth(3)\n",
    "\n",
    "# fig1 = plt.figure()\n",
    "# plt.gca().add_collection(lc)\n",
    "# plt.xlim(x.min(), x.max())\n",
    "# plt.ylim(-1.1, 1.1)\n",
    "\n",
    "# # Now do a second plot coloring the curve using a continuous colormap\n",
    "# t = np.linspace(0, 10, 200)\n",
    "# x = np.cos(np.pi * t)\n",
    "# y = np.sin(t)\n",
    "# points = np.array([x, y]).T.reshape(-1, 1, 2)\n",
    "# segments = np.concatenate([points[:-1], points[1:]], axis=1)\n",
    "\n",
    "# lc = LineCollection(segments, cmap=plt.get_cmap('copper'), norm=plt.Normalize(0, 10))\n",
    "# lc.set_array(t)\n",
    "# lc.set_linewidth(3)\n",
    "\n",
    "# fig2 = plt.figure()\n",
    "# plt.gca().add_collection(lc)\n",
    "# plt.xlim(-1, 1)\n",
    "# plt.ylim(-1, 1)\n",
    "# plt.show()"
   ]
  },
  {
   "cell_type": "code",
   "execution_count": null,
   "metadata": {},
   "outputs": [],
   "source": [
    "#hide\n",
    "from tsai.imports import create_scripts\n",
    "from tsai.export import get_nb_name\n",
    "nb_name = get_nb_name()\n",
    "create_scripts(nb_name)"
   ]
  }
 ],
 "metadata": {
  "kernelspec": {
   "display_name": "Python 3",
   "language": "python",
   "name": "python3"
  }
 },
 "nbformat": 4,
 "nbformat_minor": 4
}
