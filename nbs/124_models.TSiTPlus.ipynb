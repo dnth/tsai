{
 "cells": [
  {
   "cell_type": "code",
   "execution_count": null,
   "metadata": {},
   "outputs": [],
   "source": [
    "# default_exp models.TSiTPlus"
   ]
  },
  {
   "cell_type": "markdown",
   "metadata": {},
   "source": [
    "# TSiT & InceptionTSiT\n",
    "\n",
    "> These are PyTorch implementations created by Ignacio Oguiza (timeseriesAI@gmail.com) based on ViT (Vision Transformer)\n",
    "     \n",
    "Reference: \n",
    "\n",
    "     Dosovitskiy, A., Beyer, L., Kolesnikov, A., Weissenborn, D., Zhai, X., Unterthiner, T., ... & Houlsby, N. (2020).\n",
    "     An image is worth 16x16 words: Transformers for image recognition at scale. arXiv preprint arXiv:2010.11929.\n",
    "\n",
    "     This implementation is a modified version of Vision Transformer that is part of the grat timm library\n",
    "     (https://github.com/rwightman/pytorch-image-models/blob/72b227dcf57c0c62291673b96bdc06576bb90457/timm/models/vision_transformer.py)"
   ]
  },
  {
   "cell_type": "code",
   "execution_count": null,
   "metadata": {},
   "outputs": [],
   "source": [
    "#export\n",
    "from tsai.imports import *\n",
    "from tsai.utils import *\n",
    "from tsai.models.layers import *\n",
    "from tsai.models.InceptionTimePlus import InceptionBlockPlus\n",
    "from typing import Callable"
   ]
  },
  {
   "cell_type": "code",
   "execution_count": null,
   "metadata": {},
   "outputs": [],
   "source": [
    "# export\n",
    "class _TSiTEncoder(nn.Module):\n",
    "    def __init__(self, d_model, n_heads, n_layers:int=6, attn_dropout:float=0, dropout:float=0, drop_path_rate:float=0., \n",
    "                 mlp_ratio:int=1, qkv_bias:bool=True, act:str='reglu', pre_norm:bool=False):\n",
    "        super().__init__()\n",
    "        \n",
    "        dpr = [x.item() for x in torch.linspace(0, drop_path_rate, n_layers)]\n",
    "        self.layers = nn.ModuleList([])\n",
    "        for i in range(n_layers):\n",
    "            self.layers.append(nn.ModuleList([\n",
    "                MultiheadAttention(d_model, n_heads, attn_dropout=attn_dropout, proj_dropout=dropout, qkv_bias=qkv_bias), nn.LayerNorm(d_model),\n",
    "                PositionwiseFeedForward(d_model, dropout=dropout, act=act, mlp_ratio=mlp_ratio), nn.LayerNorm(d_model),\n",
    "                # NOTE: drop path for stochastic depth, we shall see if this is better than dropout here\n",
    "                DropPath(dpr[i]) if dpr[i] != 0 else nn.Identity(),\n",
    "                # nn.Dropout(drop_path_rate) if drop_path_rate != 0 else nn.Identity()\n",
    "            ]))\n",
    "        self.pre_norm = pre_norm\n",
    "        self.norm = nn.LayerNorm(d_model) if self.pre_norm else nn.Identity()\n",
    "\n",
    "    def forward(self, x):\n",
    "        for i, (mha, attn_norm, pwff, ff_norm, drop_path) in enumerate(self.layers):\n",
    "            if self.pre_norm:\n",
    "                x = drop_path(mha(attn_norm(x))[0]) + x\n",
    "                x = drop_path(pwff(ff_norm(x))) + x\n",
    "            else:\n",
    "                x = attn_norm(drop_path(mha(x)[0]) + x)\n",
    "                x = ff_norm(drop_path(pwff(x)) + x)\n",
    "        \n",
    "        x = self.norm(x)\n",
    "        return x\n",
    "\n",
    "\n",
    "class _TSiTBackbone(Module):\n",
    "    def __init__(self, c_in:int, seq_len:int, n_layers:int=6, d_model:int=128, n_heads:int=16, d_head:Optional[int]=None, act:str='reglu',\n",
    "                 d_ff:int=256, qkv_bias:bool=True, dropout:float=0., attn_dropout:float=0,drop_path_rate:float=0., \n",
    "                 mlp_ratio:int=1, pre_norm:bool=False, use_token:bool=True, ks:Optional[int]=None, maxpool:bool=True, \n",
    "                 feature_extractor:Optional[Callable]=None, verbose:bool=False):\n",
    "\n",
    "        self.feature_extractor = nn.Identity()\n",
    "        if feature_extractor is not None:\n",
    "            xb = torch.randn(1, c_in, seq_len)\n",
    "            ori_c_in, ori_seq_len = c_in, seq_len\n",
    "            if not isinstance(feature_extractor, nn.Module): feature_extractor = feature_extractor(c_in, d_model)\n",
    "            else: feature_extractor = feature_extractor\n",
    "            with torch.no_grad():\n",
    "                # NOTE Most reliable way of determining output dims is to run forward pass\n",
    "                training = feature_extractor.training\n",
    "                if training:\n",
    "                    feature_extractor.eval()\n",
    "                c_in, seq_len = feature_extractor(xb).shape[1:]\n",
    "                feature_extractor.train(training)\n",
    "            pv(f'feature_extractor: (?, {ori_c_in}, {ori_seq_len}) --> (?, {c_in}, {seq_len})', verbose=verbose)\n",
    "            self.feature_extractor = feature_extractor\n",
    "        \n",
    "        if ks is not None: \n",
    "            self.to_embedding = nn.Sequential(MultiConcatConv1d(c_in, d_model, kss=ks, maxpool=maxpool),Transpose(1,2))\n",
    "        else: \n",
    "            self.to_embedding = nn.Sequential(Conv1d(c_in, d_model, 1),Transpose(1,2))\n",
    "        self.pos_embedding = nn.Parameter(torch.zeros(1, seq_len + use_token, d_model))\n",
    "        self.cls_token = nn.Parameter(torch.zeros(1, 1, d_model))\n",
    "        self.use_token = use_token\n",
    "        self.pos_dropout = nn.Dropout(dropout)\n",
    "\n",
    "        self.encoder = _TSiTEncoder(d_model, n_heads, n_layers=n_layers, qkv_bias=qkv_bias, attn_dropout=attn_dropout, dropout=dropout,\n",
    "                                    mlp_ratio=mlp_ratio, drop_path_rate=drop_path_rate, act=act, pre_norm=pre_norm)\n",
    "\n",
    "    def forward(self, x):\n",
    "\n",
    "        # apply feature_extractor module if exists\n",
    "        x = self.feature_extractor(x)\n",
    "        \n",
    "        # embedding\n",
    "        x = self.to_embedding(x)\n",
    "        if self.use_token:\n",
    "            x = torch.cat((self.cls_token.expand(x.shape[0], -1, -1), x), dim=1)\n",
    "        x = self.pos_dropout(x + self.pos_embedding)\n",
    "\n",
    "        x = self.encoder(x)\n",
    "\n",
    "        x = x.transpose(1,2)\n",
    "        return x"
   ]
  },
  {
   "cell_type": "code",
   "execution_count": null,
   "metadata": {},
   "outputs": [],
   "source": [
    "#exports\n",
    "class TSiTPlus(nn.Sequential):\n",
    "    \"\"\"Time series transformer model based on ViT (Vision Transformer):\n",
    "\n",
    "    Dosovitskiy, A., Beyer, L., Kolesnikov, A., Weissenborn, D., Zhai, X., Unterthiner, T., ... & Houlsby, N. (2020).\n",
    "    An image is worth 16x16 words: Transformers for image recognition at scale. arXiv preprint arXiv:2010.11929.\n",
    "\n",
    "    This implementation is a modified version of Vision Transformer that is part of the grat timm library\n",
    "    (https://github.com/rwightman/pytorch-image-models/blob/72b227dcf57c0c62291673b96bdc06576bb90457/timm/models/vision_transformer.py)\n",
    "    \"\"\"\n",
    "\n",
    "\n",
    "    def __init__(self, c_in:int, c_out:int, seq_len:int, n_layers:int=6, d_model:int=128, n_heads:int=16, d_head:Optional[int]=None, act:str='reglu',\n",
    "                 d_ff:int=256, attn_dropout:float=0, dropout:float=0., drop_path_rate:float=0., mlp_ratio:int=1,\n",
    "                 qkv_bias:bool=True, pre_norm:bool=False, use_token:bool=True, fc_dropout:float=0., bn:bool=False, y_range:Optional[tuple]=None, \n",
    "                 ks:Optional[int]=None, maxpool:bool=True, feature_extractor:Optional[Callable]=None, custom_head:Optional[Callable]=None, verbose:bool=False):\n",
    "\n",
    "        \"\"\"\n",
    "        Args:\n",
    "        =====\n",
    "\n",
    "        c_in:                   the number of features (aka variables, dimensions, channels) in the time series dataset.\n",
    "        c_out:                  the number of target classes.\n",
    "        seq_len:                number of time steps in the time series.\n",
    "        n_layers:               number of layers (or blocks) in the encoder. Default: 3 (range(1-4))\n",
    "        d_model:                total dimension of the model (number of features created by the model). Default: 128 (range(64-512))\n",
    "        n_heads:                parallel attention heads. Default:16 (range(8-16)).\n",
    "        d_head:                 size of the learned linear projection of queries, keys and values in the MHA. Usual values: 16-512. \n",
    "                                Default: None -> (d_model/n_heads) = 32.\n",
    "        act:                    the activation function of intermediate layer, relu, gelu, geglu, reglu.\n",
    "        d_ff:                   the dimension of the feedforward network model. Default: 512 (range(256-512))\n",
    "        dropout:                dropout applied to to the embedded sequence steps after position embeddings have been added and \n",
    "                                to the mlp sublayer in the encoder.\n",
    "        attn_dropout:         dropout rate applied to the attention sublayer.\n",
    "        drop_path_rate:         stochastic depth rate.\n",
    "        mlp_ratio:              ratio of mlp hidden dim to embedding dim.\n",
    "        qkv_bias:               determines whether bias is applied to the Linear projections of queries, keys and values in the MultiheadAttention\n",
    "        pre_norm:               if True normalization will be applied as the first step in the sublayers. Defaults to False.\n",
    "        use_token:              if True, the output will come from the transformed token. Otherwise a pooling layer will be applied.\n",
    "        fc_dropout:             dropout applied to the final fully connected layer.\n",
    "        bn:                     flag that indicates if batchnorm will be applied to the head.\n",
    "        y_range:                range of possible y values (used in regression tasks).\n",
    "        ks:                     (Optional) kernel sizes that will be applied to a hybrid embedding.\n",
    "        maxpool:                If true and kernel sizes are passed, maxpool will also be added to the hybrid embedding.\n",
    "        feature_extractor:           an optional callable (nn.Conv1d with dilation > 1 or stride > 1 for example) that will be used to preprocess the time series before \n",
    "                                the embedding step. It is useful to extract features or resample the time series.\n",
    "        custom_head:            custom head that will be applied to the network. It must contain all kwargs (pass a partial function)\n",
    "\n",
    "        Input shape:\n",
    "            x: bs (batch size) x nvars (aka features, variables, dimensions, channels) x seq_len (aka time steps)\n",
    "        \"\"\"\n",
    "        \n",
    "        backbone = _TSiTBackbone(c_in, seq_len, n_layers=n_layers, d_model=d_model, n_heads=n_heads, d_head=d_head, act=act, d_ff=d_ff, \n",
    "                                 attn_dropout=attn_dropout, dropout=dropout, drop_path_rate=drop_path_rate, pre_norm=pre_norm, mlp_ratio=mlp_ratio, \n",
    "                                 use_token=use_token, ks=ks, maxpool=maxpool, feature_extractor=feature_extractor, verbose=verbose)\n",
    "\n",
    "        self.head_nf = d_model\n",
    "        self.c_out = c_out\n",
    "        self.seq_len = seq_len\n",
    "        if custom_head: \n",
    "            head = custom_head(self.head_nf, c_out, self.seq_len) # custom head passed as a partial func with all its kwargs\n",
    "        else:\n",
    "            layers = [TokenLayer(token=use_token)]\n",
    "            layers += [LinBnDrop(d_model, c_out, bn=bn, p=fc_dropout)]\n",
    "            if y_range: layers += [SigmoidRange(*y_range)]\n",
    "            head = nn.Sequential(*layers)\n",
    "        super().__init__(OrderedDict([('backbone', backbone), ('head', head)]))\n",
    "\n",
    "        \n",
    "TSiT = TSiTPlus\n",
    "InceptionTSiTPlus = named_partial(\"InceptionTSiTPlus\", TSiTPlus, feature_extractor=partial(InceptionBlockPlus, ks=[3,5,7]))\n",
    "InceptionTSiT = named_partial(\"InceptionTSiT\", TSiTPlus, feature_extractor=partial(InceptionBlockPlus, ks=[3,5,7]))\n",
    "ConvTSiT = named_partial(\"ConvTSiT\", TSiTPlus, ks=[1,3,5,7])\n",
    "ConvTSiTPlus = named_partial(\"ConvTSiTPlus\", TSiTPlus, ks=[1,3,5,7])"
   ]
  },
  {
   "cell_type": "code",
   "execution_count": null,
   "metadata": {},
   "outputs": [
    {
     "data": {
      "text/plain": [
       "TSiTPlus(\n",
       "  (backbone): _TSiTBackbone(\n",
       "    (feature_extractor): Identity()\n",
       "    (to_embedding): Sequential(\n",
       "      (0): Conv1d(4, 128, kernel_size=(1,), stride=(1,))\n",
       "      (1): Transpose(1, 2)\n",
       "    )\n",
       "    (pos_dropout): Dropout(p=0.1, inplace=False)\n",
       "    (encoder): _TSiTEncoder(\n",
       "      (layers): ModuleList(\n",
       "        (0): ModuleList(\n",
       "          (0): MultiheadAttention(\n",
       "            (W_Q): Linear(in_features=128, out_features=128, bias=True)\n",
       "            (W_K): Linear(in_features=128, out_features=128, bias=True)\n",
       "            (W_V): Linear(in_features=128, out_features=128, bias=True)\n",
       "            (sdp_attn): ScaledDotProductAttention(\n",
       "              (attn_dropout): Dropout(p=0.1, inplace=False)\n",
       "            )\n",
       "            (to_out): Sequential(\n",
       "              (0): Linear(in_features=128, out_features=128, bias=True)\n",
       "              (1): Dropout(p=0.1, inplace=False)\n",
       "            )\n",
       "          )\n",
       "          (1): LayerNorm((128,), eps=1e-05, elementwise_affine=True)\n",
       "          (2): PositionwiseFeedForward(\n",
       "            (0): Linear(in_features=128, out_features=256, bias=True)\n",
       "            (1): ReGLU()\n",
       "            (2): Dropout(p=0.1, inplace=False)\n",
       "            (3): Linear(in_features=128, out_features=128, bias=True)\n",
       "            (4): Dropout(p=0.1, inplace=False)\n",
       "          )\n",
       "          (3): LayerNorm((128,), eps=1e-05, elementwise_affine=True)\n",
       "          (4): Identity()\n",
       "        )\n",
       "        (1): ModuleList(\n",
       "          (0): MultiheadAttention(\n",
       "            (W_Q): Linear(in_features=128, out_features=128, bias=True)\n",
       "            (W_K): Linear(in_features=128, out_features=128, bias=True)\n",
       "            (W_V): Linear(in_features=128, out_features=128, bias=True)\n",
       "            (sdp_attn): ScaledDotProductAttention(\n",
       "              (attn_dropout): Dropout(p=0.1, inplace=False)\n",
       "            )\n",
       "            (to_out): Sequential(\n",
       "              (0): Linear(in_features=128, out_features=128, bias=True)\n",
       "              (1): Dropout(p=0.1, inplace=False)\n",
       "            )\n",
       "          )\n",
       "          (1): LayerNorm((128,), eps=1e-05, elementwise_affine=True)\n",
       "          (2): PositionwiseFeedForward(\n",
       "            (0): Linear(in_features=128, out_features=256, bias=True)\n",
       "            (1): ReGLU()\n",
       "            (2): Dropout(p=0.1, inplace=False)\n",
       "            (3): Linear(in_features=128, out_features=128, bias=True)\n",
       "            (4): Dropout(p=0.1, inplace=False)\n",
       "          )\n",
       "          (3): LayerNorm((128,), eps=1e-05, elementwise_affine=True)\n",
       "          (4): Identity()\n",
       "        )\n",
       "        (2): ModuleList(\n",
       "          (0): MultiheadAttention(\n",
       "            (W_Q): Linear(in_features=128, out_features=128, bias=True)\n",
       "            (W_K): Linear(in_features=128, out_features=128, bias=True)\n",
       "            (W_V): Linear(in_features=128, out_features=128, bias=True)\n",
       "            (sdp_attn): ScaledDotProductAttention(\n",
       "              (attn_dropout): Dropout(p=0.1, inplace=False)\n",
       "            )\n",
       "            (to_out): Sequential(\n",
       "              (0): Linear(in_features=128, out_features=128, bias=True)\n",
       "              (1): Dropout(p=0.1, inplace=False)\n",
       "            )\n",
       "          )\n",
       "          (1): LayerNorm((128,), eps=1e-05, elementwise_affine=True)\n",
       "          (2): PositionwiseFeedForward(\n",
       "            (0): Linear(in_features=128, out_features=256, bias=True)\n",
       "            (1): ReGLU()\n",
       "            (2): Dropout(p=0.1, inplace=False)\n",
       "            (3): Linear(in_features=128, out_features=128, bias=True)\n",
       "            (4): Dropout(p=0.1, inplace=False)\n",
       "          )\n",
       "          (3): LayerNorm((128,), eps=1e-05, elementwise_affine=True)\n",
       "          (4): Identity()\n",
       "        )\n",
       "        (3): ModuleList(\n",
       "          (0): MultiheadAttention(\n",
       "            (W_Q): Linear(in_features=128, out_features=128, bias=True)\n",
       "            (W_K): Linear(in_features=128, out_features=128, bias=True)\n",
       "            (W_V): Linear(in_features=128, out_features=128, bias=True)\n",
       "            (sdp_attn): ScaledDotProductAttention(\n",
       "              (attn_dropout): Dropout(p=0.1, inplace=False)\n",
       "            )\n",
       "            (to_out): Sequential(\n",
       "              (0): Linear(in_features=128, out_features=128, bias=True)\n",
       "              (1): Dropout(p=0.1, inplace=False)\n",
       "            )\n",
       "          )\n",
       "          (1): LayerNorm((128,), eps=1e-05, elementwise_affine=True)\n",
       "          (2): PositionwiseFeedForward(\n",
       "            (0): Linear(in_features=128, out_features=256, bias=True)\n",
       "            (1): ReGLU()\n",
       "            (2): Dropout(p=0.1, inplace=False)\n",
       "            (3): Linear(in_features=128, out_features=128, bias=True)\n",
       "            (4): Dropout(p=0.1, inplace=False)\n",
       "          )\n",
       "          (3): LayerNorm((128,), eps=1e-05, elementwise_affine=True)\n",
       "          (4): Identity()\n",
       "        )\n",
       "        (4): ModuleList(\n",
       "          (0): MultiheadAttention(\n",
       "            (W_Q): Linear(in_features=128, out_features=128, bias=True)\n",
       "            (W_K): Linear(in_features=128, out_features=128, bias=True)\n",
       "            (W_V): Linear(in_features=128, out_features=128, bias=True)\n",
       "            (sdp_attn): ScaledDotProductAttention(\n",
       "              (attn_dropout): Dropout(p=0.1, inplace=False)\n",
       "            )\n",
       "            (to_out): Sequential(\n",
       "              (0): Linear(in_features=128, out_features=128, bias=True)\n",
       "              (1): Dropout(p=0.1, inplace=False)\n",
       "            )\n",
       "          )\n",
       "          (1): LayerNorm((128,), eps=1e-05, elementwise_affine=True)\n",
       "          (2): PositionwiseFeedForward(\n",
       "            (0): Linear(in_features=128, out_features=256, bias=True)\n",
       "            (1): ReGLU()\n",
       "            (2): Dropout(p=0.1, inplace=False)\n",
       "            (3): Linear(in_features=128, out_features=128, bias=True)\n",
       "            (4): Dropout(p=0.1, inplace=False)\n",
       "          )\n",
       "          (3): LayerNorm((128,), eps=1e-05, elementwise_affine=True)\n",
       "          (4): Identity()\n",
       "        )\n",
       "        (5): ModuleList(\n",
       "          (0): MultiheadAttention(\n",
       "            (W_Q): Linear(in_features=128, out_features=128, bias=True)\n",
       "            (W_K): Linear(in_features=128, out_features=128, bias=True)\n",
       "            (W_V): Linear(in_features=128, out_features=128, bias=True)\n",
       "            (sdp_attn): ScaledDotProductAttention(\n",
       "              (attn_dropout): Dropout(p=0.1, inplace=False)\n",
       "            )\n",
       "            (to_out): Sequential(\n",
       "              (0): Linear(in_features=128, out_features=128, bias=True)\n",
       "              (1): Dropout(p=0.1, inplace=False)\n",
       "            )\n",
       "          )\n",
       "          (1): LayerNorm((128,), eps=1e-05, elementwise_affine=True)\n",
       "          (2): PositionwiseFeedForward(\n",
       "            (0): Linear(in_features=128, out_features=256, bias=True)\n",
       "            (1): ReGLU()\n",
       "            (2): Dropout(p=0.1, inplace=False)\n",
       "            (3): Linear(in_features=128, out_features=128, bias=True)\n",
       "            (4): Dropout(p=0.1, inplace=False)\n",
       "          )\n",
       "          (3): LayerNorm((128,), eps=1e-05, elementwise_affine=True)\n",
       "          (4): Identity()\n",
       "        )\n",
       "      )\n",
       "      (norm): Identity()\n",
       "    )\n",
       "  )\n",
       "  (head): Sequential(\n",
       "    (0): TokenLayer()\n",
       "    (1): LinBnDrop(\n",
       "      (0): Linear(in_features=128, out_features=2, bias=True)\n",
       "    )\n",
       "  )\n",
       ")"
      ]
     },
     "execution_count": null,
     "metadata": {},
     "output_type": "execute_result"
    }
   ],
   "source": [
    "bs = 16\n",
    "nvars = 4\n",
    "seq_len = 50\n",
    "c_out = 2\n",
    "xb = torch.rand(bs, nvars, seq_len)\n",
    "model = TSiTPlus(nvars, c_out, seq_len, attn_dropout=.1, dropout=.1)\n",
    "test_eq(model(xb).shape, (bs, c_out))\n",
    "model"
   ]
  },
  {
   "cell_type": "code",
   "execution_count": null,
   "metadata": {},
   "outputs": [
    {
     "name": "stderr",
     "output_type": "stream",
     "text": [
      "[W NNPACK.cpp:79] Could not initialize NNPACK! Reason: Unsupported hardware.\n"
     ]
    }
   ],
   "source": [
    "bs = 16\n",
    "nvars = 4\n",
    "seq_len = 50\n",
    "c_out = 2\n",
    "xb = torch.rand(bs, nvars, seq_len)\n",
    "model = InceptionTSiTPlus(nvars, c_out, seq_len)\n",
    "test_eq(model(xb).shape, (bs, c_out))"
   ]
  },
  {
   "cell_type": "markdown",
   "metadata": {},
   "source": [
    "### Subsampling\n",
    "\n",
    "It's a known fact that transformers cannot be directly applied to long sequences. To avoid this, we have included a way to subsample the sequence to generate a more manageable input."
   ]
  },
  {
   "cell_type": "code",
   "execution_count": null,
   "metadata": {},
   "outputs": [
    {
     "data": {
      "image/png": "[encoded data removed]",
      "text/plain": [
       "<Figure size 1152x36 with 1 Axes>"
      ]
     },
     "metadata": {
      "needs_background": "light"
     },
     "output_type": "display_data"
    },
    {
     "data": {
      "text/plain": [
       "TSTensor(samples:8, vars:3, len:5000, device=cpu)"
      ]
     },
     "execution_count": null,
     "metadata": {},
     "output_type": "execute_result"
    }
   ],
   "source": [
    "from tsai.data.validation import get_splits\n",
    "from tsai.data.core import get_ts_dls\n",
    "X = np.zeros((10, 3, 5000)) \n",
    "y = np.random.randint(0,2,X.shape[0])\n",
    "splits = get_splits(y)\n",
    "dls = get_ts_dls(X, y, splits=splits)\n",
    "xb, yb = dls.train.one_batch()\n",
    "xb"
   ]
  },
  {
   "cell_type": "markdown",
   "metadata": {},
   "source": [
    "If you try to use TSiTPlus, it's likely you'll get an 'out-of-memory' error.\n",
    "\n",
    "To avoid this you can subsample the sequence reducing the input's length. This can be done in multiple ways. Here are a few examples: "
   ]
  },
  {
   "cell_type": "code",
   "execution_count": null,
   "metadata": {},
   "outputs": [
    {
     "data": {
      "text/plain": [
       "torch.Size([8, 3, 99])"
      ]
     },
     "execution_count": null,
     "metadata": {},
     "output_type": "execute_result"
    }
   ],
   "source": [
    "# Separable convolution (to avoid mixing channels)\n",
    "feature_extractor = Conv1d(xb.shape[1], xb.shape[1], ks=100, stride=50, padding=0, groups=xb.shape[1]).to(default_device())\n",
    "feature_extractor(xb).shape"
   ]
  },
  {
   "cell_type": "code",
   "execution_count": null,
   "metadata": {},
   "outputs": [
    {
     "data": {
      "text/plain": [
       "torch.Size([8, 2, 99])"
      ]
     },
     "execution_count": null,
     "metadata": {},
     "output_type": "execute_result"
    }
   ],
   "source": [
    "# Convolution (if you want to mix channels or change number of channels)\n",
    "feature_extractor = Conv1d(xb.shape[1], 2, ks=100, stride=50, padding=0).to(default_device())\n",
    "feature_extractor(xb).shape"
   ]
  },
  {
   "cell_type": "code",
   "execution_count": null,
   "metadata": {},
   "outputs": [
    {
     "data": {
      "text/plain": [
       "torch.Size([8, 3, 100])"
      ]
     },
     "execution_count": null,
     "metadata": {},
     "output_type": "execute_result"
    }
   ],
   "source": [
    "# MaxPool\n",
    "feature_extractor = nn.Sequential(Pad1d((0, 50), 0), nn.MaxPool1d(kernel_size=100, stride=50)).to(default_device())\n",
    "feature_extractor(xb).shape"
   ]
  },
  {
   "cell_type": "code",
   "execution_count": null,
   "metadata": {},
   "outputs": [
    {
     "data": {
      "text/plain": [
       "torch.Size([8, 3, 100])"
      ]
     },
     "execution_count": null,
     "metadata": {},
     "output_type": "execute_result"
    }
   ],
   "source": [
    "# AvgPool\n",
    "feature_extractor = nn.Sequential(Pad1d((0, 50), 0), nn.AvgPool1d(kernel_size=100, stride=50)).to(default_device())\n",
    "feature_extractor(xb).shape"
   ]
  },
  {
   "cell_type": "markdown",
   "metadata": {},
   "source": [
    "Once you decide what type of transform you want to apply, you just need to pass the layer as the feature_extractor attribute:"
   ]
  },
  {
   "cell_type": "code",
   "execution_count": null,
   "metadata": {},
   "outputs": [],
   "source": [
    "bs = 16\n",
    "nvars = 4\n",
    "seq_len = 1000\n",
    "c_out = 2\n",
    "d_model = 128\n",
    "\n",
    "xb = torch.rand(bs, nvars, seq_len)\n",
    "feature_extractor = partial(Conv1d, ks=5, stride=3, padding=0, groups=xb.shape[1])\n",
    "model = TSiTPlus(nvars, c_out, seq_len, d_model=d_model, feature_extractor=feature_extractor)\n",
    "test_eq(model(xb).shape, (bs, c_out))"
   ]
  },
  {
   "cell_type": "code",
   "execution_count": null,
   "metadata": {},
   "outputs": [
    {
     "data": {
      "application/javascript": [
       "IPython.notebook.save_checkpoint();"
      ],
      "text/plain": [
       "<IPython.core.display.Javascript object>"
      ]
     },
     "metadata": {},
     "output_type": "display_data"
    },
    {
     "name": "stdout",
     "output_type": "stream",
     "text": [
      "124_models.TSiTPlus.ipynb saved at 2021-11-20 20:25:22.\n",
      "Converted 124_models.TSiTPlus.ipynb.\n",
      "\n",
      "\n",
      "Correct conversion! 😃\n",
      "Total time elapsed 0.097 s\n",
      "Saturday 20/11/21 20:25:25 CET\n"
     ]
    },
    {
     "data": {
      "text/html": [
       "\n",
       "                <audio  controls=\"controls\" autoplay=\"autoplay\">\n",
       "                    <source src=\"data:audio/wav;base64,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\" type=\"audio/wav\" />\n",
       "                    Your browser does not support the audio element.\n",
       "                </audio>\n",
       "              "
      ],
      "text/plain": [
       "<IPython.lib.display.Audio object>"
      ]
     },
     "metadata": {},
     "output_type": "display_data"
    }
   ],
   "source": [
    "#hide\n",
    "from tsai.imports import create_scripts\n",
    "from tsai.export import get_nb_name\n",
    "nb_name = get_nb_name()\n",
    "create_scripts(nb_name);"
   ]
  }
 ],
 "metadata": {
  "kernelspec": {
   "display_name": "Python 3 (ipykernel)",
   "language": "python",
   "name": "python3"
  }
 },
 "nbformat": 4,
 "nbformat_minor": 4
}
