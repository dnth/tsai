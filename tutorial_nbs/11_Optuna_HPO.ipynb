{
 "cells": [
  {
   "cell_type": "markdown",
   "metadata": {
    "id": "cL_cj3rTdkUy"
   },
   "source": [
    "<a href=\"https://colab.research.google.com/github/dnth/tsai/blob/master/tutorial_nbs/11_Optuna_HPO.ipynb\" target=\"_parent\"><img src=\"https://colab.research.google.com/assets/colab-badge.svg\" alt=\"Open In Colab\"/></a>"
   ]
  },
  {
   "cell_type": "markdown",
   "metadata": {
    "id": "Xl9R281WAzwa"
   },
   "source": [
    "created by Dickson Neoh - dickson.neoh@gmail.com and with incredible help from Ignacio Oguiza - email: timeseriesAI@gmail.com"
   ]
  },
  {
   "cell_type": "markdown",
   "metadata": {
    "heading_collapsed": true,
    "id": "5LdcbR8FAzwe"
   },
   "source": [
    "## Purpose 😇"
   ]
  },
  {
   "cell_type": "markdown",
   "metadata": {
    "hidden": true,
    "id": "4katiwc2Azwg"
   },
   "source": [
    "The purpose of this notebook is to show you how you can take any model or dataset in TSAI and run a hyperparameter optimization job to search for optimal hyperparameter combination that yields the best result on the dataset."
   ]
  },
  {
   "cell_type": "markdown",
   "metadata": {
    "heading_collapsed": true,
    "id": "pogoZvLtAzwi"
   },
   "source": [
    "## Import libraries 📚"
   ]
  },
  {
   "cell_type": "code",
   "execution_count": 1,
   "metadata": {
    "ExecuteTime": {
     "end_time": "2020-11-09T14:34:15.712041Z",
     "start_time": "2020-11-09T14:34:04.632601Z"
    },
    "hidden": true,
    "id": "1W7gX_RLAzwk"
   },
   "outputs": [],
   "source": [
    "# ## NOTE: UNCOMMENT AND RUN THIS CELL IF YOU NEED TO INSTALL/ UPGRADE TSAI\n",
    "# stable = False # True: latest version from github, False: stable version in pip\n",
    "# if stable: \n",
    "#     !pip install tsai -U >> /dev/null\n",
    "# else:      \n",
    "#     !pip install git+https://github.com/timeseriesAI/tsai.git -U >> /dev/null\n",
    "# ## NOTE: REMEMBER TO RESTART (NOT RECONNECT/ RESET) THE KERNEL/ RUNTIME ONCE THE INSTALLATION IS FINISHED"
   ]
  },
  {
   "cell_type": "code",
   "execution_count": 2,
   "metadata": {
    "colab": {
     "base_uri": "https://localhost:8080/"
    },
    "hidden": true,
    "id": "CjlrWorV20mI",
    "outputId": "d8be271a-a737-4d7d-a1c2-2f7ad0fdd5c7"
   },
   "outputs": [
    {
     "name": "stdout",
     "output_type": "stream",
     "text": [
      "python         : 3.8.11\n",
      "tsai           : 0.2.19\n",
      "fastai         : 2.5.2\n",
      "fastcore       : 1.3.26\n",
      "torch          : 1.9.0+cu102\n",
      "#cpus          : 4\n",
      "device         : cuda (GeForce GTX 980)\n"
     ]
    }
   ],
   "source": [
    "from tsai.all import *\n",
    "p = !python  -V\n",
    "print(f'python         : {p[0].split(\" \")[1]}')\n",
    "print(f'tsai           : {tsai.__version__}')\n",
    "print(f'fastai         : {fastai.__version__}')\n",
    "print(f'fastcore       : {fastcore.__version__}')\n",
    "print(f'torch          : {torch.__version__}')\n",
    "print(f'#cpus          : {cpus}')\n",
    "iscuda = torch.cuda.is_available()\n",
    "print(f'device         : {device} ({torch.cuda.get_device_name(0)})' if iscuda else f'device         : {device}')"
   ]
  },
  {
   "cell_type": "markdown",
   "metadata": {},
   "source": [
    "## Baseline 📉"
   ]
  },
  {
   "cell_type": "markdown",
   "metadata": {},
   "source": [
    "Before embarking on any hyperparameter optimization tasks, it is important to get a baseline performance so that we can note the improvements after the optimization is done.\n",
    "In this notebook we use the InceptionTimePlus model and and train on the NATOPS dataset, both conveniently provided in TSAI in just few lines of codes. \n",
    "Feel free to use any other models and datasets."
   ]
  },
  {
   "cell_type": "code",
   "execution_count": 3,
   "metadata": {
    "colab": {
     "base_uri": "https://localhost:8080/",
     "height": 470
    },
    "hidden": true,
    "id": "6bOQ_pJmnlUF",
    "outputId": "af73b044-eb20-450a-e357-8babcb2e992c"
   },
   "outputs": [
    {
     "data": {
      "text/html": [
       "<table border=\"1\" class=\"dataframe\">\n",
       "  <thead>\n",
       "    <tr style=\"text-align: left;\">\n",
       "      <th>epoch</th>\n",
       "      <th>train_loss</th>\n",
       "      <th>valid_loss</th>\n",
       "      <th>accuracy</th>\n",
       "      <th>time</th>\n",
       "    </tr>\n",
       "  </thead>\n",
       "  <tbody>\n",
       "    <tr>\n",
       "      <td>0</td>\n",
       "      <td>1.726728</td>\n",
       "      <td>1.777517</td>\n",
       "      <td>0.172222</td>\n",
       "      <td>00:00</td>\n",
       "    </tr>\n",
       "    <tr>\n",
       "      <td>1</td>\n",
       "      <td>1.404650</td>\n",
       "      <td>1.746338</td>\n",
       "      <td>0.227778</td>\n",
       "      <td>00:00</td>\n",
       "    </tr>\n",
       "    <tr>\n",
       "      <td>2</td>\n",
       "      <td>1.108030</td>\n",
       "      <td>1.705427</td>\n",
       "      <td>0.411111</td>\n",
       "      <td>00:00</td>\n",
       "    </tr>\n",
       "    <tr>\n",
       "      <td>3</td>\n",
       "      <td>0.919610</td>\n",
       "      <td>1.655371</td>\n",
       "      <td>0.500000</td>\n",
       "      <td>00:00</td>\n",
       "    </tr>\n",
       "    <tr>\n",
       "      <td>4</td>\n",
       "      <td>0.801570</td>\n",
       "      <td>1.610539</td>\n",
       "      <td>0.494444</td>\n",
       "      <td>00:00</td>\n",
       "    </tr>\n",
       "  </tbody>\n",
       "</table>"
      ],
      "text/plain": [
       "<IPython.core.display.HTML object>"
      ]
     },
     "metadata": {},
     "output_type": "display_data"
    },
    {
     "name": "stderr",
     "output_type": "stream",
     "text": [
      "/home/dnth/anaconda3/envs/tsai-dev/lib/python3.8/site-packages/torch/nn/functional.py:652: UserWarning: Named tensors and all their associated APIs are an experimental feature and subject to change. Please do not use them for anything important until they are released as stable. (Triggered internally at  /pytorch/c10/core/TensorImpl.h:1156.)\n",
      "  return torch.max_pool1d(input, kernel_size, stride, padding, dilation, ceil_mode)\n"
     ]
    },
    {
     "data": {
      "image/png": "[encoded data removed]",
      "text/plain": [
       "<Figure size 432x288 with 1 Axes>"
      ]
     },
     "metadata": {},
     "output_type": "display_data"
    },
    {
     "data": {
      "image/png": "[encoded data removed]",
      "text/plain": [
       "<Figure size 864x288 with 2 Axes>"
      ]
     },
     "metadata": {
      "needs_background": "light"
     },
     "output_type": "display_data"
    }
   ],
   "source": [
    "X, y, splits = get_UCR_data('NATOPS', split_data=False)\n",
    "learn = TSClassifier(X, y, splits=splits, bs=[64, 128], batch_tfms=TSStandardize(by_sample=True), arch=InceptionTimePlus, metrics=accuracy, cbs=ShowGraph())\n",
    "learn.fit_one_cycle(5, lr_max=1e-3)"
   ]
  },
  {
   "cell_type": "markdown",
   "metadata": {},
   "source": [
    "Note the performance of the baseline model. It is about 50% accuracy on my local machine."
   ]
  },
  {
   "cell_type": "markdown",
   "metadata": {},
   "source": [
    "## Install Optuna 🕹️"
   ]
  },
  {
   "cell_type": "markdown",
   "metadata": {},
   "source": [
    "[Optuna]('https://optuna.readthedocs.io/en/stable/index.html') is an automatic hyperparameter optimization software framework, particularly designed for machine learning."
   ]
  },
  {
   "cell_type": "code",
   "execution_count": 4,
   "metadata": {
    "colab": {
     "base_uri": "https://localhost:8080/"
    },
    "id": "ZUjhYaoNI-3C",
    "outputId": "e69e8cc9-ccd3-4482-8f9f-38c0111193e4"
   },
   "outputs": [],
   "source": [
    "# !pip install optuna -U >> /dev/null"
   ]
  },
  {
   "cell_type": "markdown",
   "metadata": {},
   "source": [
    "## Define objective function 🎯"
   ]
  },
  {
   "cell_type": "markdown",
   "metadata": {},
   "source": [
    "To define any study in Optuna, you need to create an objective function that will be optimized. The function will be different per study, but it's pretty easy to build with tsai. Below you can find an objective function that you can adapt to meet your needs.\n",
    "\n",
    "There are two components in the objective function that you need to define:\n",
    "1. Search space - the hyperparameter values that you would like to search. In this example we are searching for the combination of nf and dropout rate.\n",
    "2. Objective value - the value that will be used to indicate the performance of the model. In this example we use the validation loss as the objective value.\n",
    "\n",
    "FastAIPruningCallback is a callback that can optionally be used to prune unpromising trials (ie early stopping) in Optuna. You can choose if you want to monitor the 'valid_loss' or any metric of your choice."
   ]
  },
  {
   "cell_type": "code",
   "execution_count": 5,
   "metadata": {
    "id": "EF3IZ6bIJDHy"
   },
   "outputs": [],
   "source": [
    "import optuna\n",
    "from optuna.integration import FastAIPruningCallback # A callback to prune unpromising trials (ie early stopping) in Optuna. Optional.\n",
    "\n",
    "def objective(trial:optuna.Trial):\n",
    "    \n",
    "    # Define search space here. More info here https://optuna.readthedocs.io/en/stable/tutorial/10_key_features/002_configurations.html\n",
    "    nf = trial.suggest_categorical('num_filters', [32, 64, 96]) # search through all values in the provided list\n",
    "    depth = trial.suggest_int('depth', 3, 9, step=3) # search through all values between 4 and 6\n",
    "    dropout_rate = trial.suggest_float(\"dropout_rate\", 0.0, 0.5, step=.1) # search through all values between 0.0 and 1.0\n",
    "    \n",
    "    batch_tfms = TSStandardize(by_sample=True)\n",
    "    learn = TSClassifier(X, y, splits=splits, bs=[64, 128], batch_tfms=batch_tfms,\n",
    "                         arch=InceptionTimePlus, arch_config={'nf':nf, 'fc_dropout':dropout_rate, 'depth':depth},\n",
    "                         metrics=accuracy, cbs=FastAIPruningCallback(trial))\n",
    "\n",
    "    with ContextManagers([learn.no_logging(), learn.no_bar()]): # this prevents fastai from printing anything during training\n",
    "        learn.fit_one_cycle(5, lr_max=1e-3)\n",
    "\n",
    "    # Return the objective value\n",
    "    return learn.recorder.values[-1][1] # return the validation loss value of the last epoch "
   ]
  },
  {
   "cell_type": "markdown",
   "metadata": {},
   "source": [
    "## Start the study 🧑‍🎓"
   ]
  },
  {
   "cell_type": "markdown",
   "metadata": {},
   "source": [
    "In Optuna, the hyperparameter search job is known as a Study. Each Study consists of many Trials. The number of Trials indicate how many times do you want Optuna to search through the search space. After configuring the objective function above we would like to let Optuna to perform the search (study) for the combination of hyperparameters that yield the best objective value. \n",
    "\n",
    "📝Note: In the objective function we used the validation loss as our our objective value. Hence in the the study, we must tell Optuna minimize the objective value (This can be specified in the `direction='minimize'` as shown below). Alternatively, if you have chosen to use the accuracy metric as the objective value, you will need to tell Optuna to maximize instead. (This can be specified in the `direction='maximize'` )"
   ]
  },
  {
   "cell_type": "code",
   "execution_count": 6,
   "metadata": {
    "colab": {
     "base_uri": "https://localhost:8080/",
     "height": 1000,
     "referenced_widgets": [
      "5009b6fc90d4479f9412d72134fa3570",
      "bc10f87670cf45c1b01a6a0310342e73",
      "eaebc755be8a4ab1a9766e61a53e8b57",
      "d1660405d9034b79a87d249a0695dd5e",
      "0fdd64d81cf5489d905f0fed2be5fc96",
      "971044db545f4539814b7e44f5fee884",
      "a3dc91b579414fadb4c03449da6fb0f8",
      "3e34e396e3d44d539d513eea7d54bdad"
     ]
    },
    "id": "xQycJevwJJLd",
    "outputId": "fe9819a7-5b13-4caa-c42f-56e220b5376b"
   },
   "outputs": [
    {
     "name": "stderr",
     "output_type": "stream",
     "text": [
      "\u001b[32m[I 2021-09-20 11:30:45,779]\u001b[0m A new study created in memory with name: no-name-45b3b78e-d24e-4925-9369-6749e2fd22d1\u001b[0m\n",
      "\u001b[32m[I 2021-09-20 11:30:47,471]\u001b[0m Trial 0 finished with value: 1.182837963104248 and parameters: {'num_filters': 96, 'depth': 6, 'dropout_rate': 0.0}. Best is trial 0 with value: 1.182837963104248.\u001b[0m\n",
      "\u001b[32m[I 2021-09-20 11:30:48,141]\u001b[0m Trial 1 finished with value: 1.17231023311615 and parameters: {'num_filters': 96, 'depth': 6, 'dropout_rate': 0.30000000000000004}. Best is trial 1 with value: 1.17231023311615.\u001b[0m\n",
      "\u001b[32m[I 2021-09-20 11:30:48,391]\u001b[0m Trial 2 finished with value: 1.560961365699768 and parameters: {'num_filters': 32, 'depth': 3, 'dropout_rate': 0.5}. Best is trial 1 with value: 1.17231023311615.\u001b[0m\n",
      "\u001b[32m[I 2021-09-20 11:30:48,780]\u001b[0m Trial 3 finished with value: 1.0097699165344238 and parameters: {'num_filters': 96, 'depth': 3, 'dropout_rate': 0.2}. Best is trial 3 with value: 1.0097699165344238.\u001b[0m\n",
      "\u001b[32m[I 2021-09-20 11:30:50,802]\u001b[0m Trial 4 finished with value: 1.5835756063461304 and parameters: {'num_filters': 64, 'depth': 9, 'dropout_rate': 0.0}. Best is trial 3 with value: 1.0097699165344238.\u001b[0m\n",
      "\u001b[32m[I 2021-09-20 11:30:50,921]\u001b[0m Trial 5 pruned. Trial was pruned at epoch 0.\u001b[0m\n",
      "\u001b[32m[I 2021-09-20 11:30:51,311]\u001b[0m Trial 6 finished with value: 1.0784798860549927 and parameters: {'num_filters': 96, 'depth': 3, 'dropout_rate': 0.4}. Best is trial 3 with value: 1.0097699165344238.\u001b[0m\n",
      "\u001b[32m[I 2021-09-20 11:30:51,481]\u001b[0m Trial 7 pruned. Trial was pruned at epoch 0.\u001b[0m\n",
      "\u001b[32m[I 2021-09-20 11:30:51,650]\u001b[0m Trial 8 pruned. Trial was pruned at epoch 0.\u001b[0m\n",
      "\u001b[32m[I 2021-09-20 11:30:51,781]\u001b[0m Trial 9 pruned. Trial was pruned at epoch 0.\u001b[0m\n",
      "\u001b[32m[I 2021-09-20 11:30:52,176]\u001b[0m Trial 10 finished with value: 1.0193233489990234 and parameters: {'num_filters': 96, 'depth': 3, 'dropout_rate': 0.2}. Best is trial 3 with value: 1.0097699165344238.\u001b[0m\n",
      "\u001b[32m[I 2021-09-20 11:30:52,571]\u001b[0m Trial 11 finished with value: 0.9390203952789307 and parameters: {'num_filters': 96, 'depth': 3, 'dropout_rate': 0.2}. Best is trial 11 with value: 0.9390203952789307.\u001b[0m\n",
      "\u001b[32m[I 2021-09-20 11:30:52,731]\u001b[0m Trial 12 pruned. Trial was pruned at epoch 0.\u001b[0m\n",
      "\u001b[32m[I 2021-09-20 11:30:53,078]\u001b[0m Trial 13 pruned. Trial was pruned at epoch 1.\u001b[0m\n",
      "\u001b[32m[I 2021-09-20 11:30:53,473]\u001b[0m Trial 14 finished with value: 0.9374639987945557 and parameters: {'num_filters': 96, 'depth': 3, 'dropout_rate': 0.2}. Best is trial 14 with value: 0.9374639987945557.\u001b[0m\n",
      "\u001b[32m[I 2021-09-20 11:30:53,814]\u001b[0m Trial 15 pruned. Trial was pruned at epoch 1.\u001b[0m\n",
      "\u001b[32m[I 2021-09-20 11:30:54,210]\u001b[0m Trial 16 finished with value: 0.9545926451683044 and parameters: {'num_filters': 96, 'depth': 3, 'dropout_rate': 0.30000000000000004}. Best is trial 14 with value: 0.9374639987945557.\u001b[0m\n",
      "\u001b[32m[I 2021-09-20 11:30:54,512]\u001b[0m Trial 17 pruned. Trial was pruned at epoch 0.\u001b[0m\n",
      "\u001b[32m[I 2021-09-20 11:30:54,691]\u001b[0m Trial 18 pruned. Trial was pruned at epoch 0.\u001b[0m\n",
      "\u001b[32m[I 2021-09-20 11:30:54,848]\u001b[0m Trial 19 pruned. Trial was pruned at epoch 1.\u001b[0m\n",
      "\u001b[32m[I 2021-09-20 11:30:55,065]\u001b[0m Trial 20 pruned. Trial was pruned at epoch 1.\u001b[0m\n",
      "\u001b[32m[I 2021-09-20 11:30:55,225]\u001b[0m Trial 21 pruned. Trial was pruned at epoch 0.\u001b[0m\n",
      "\u001b[32m[I 2021-09-20 11:30:55,621]\u001b[0m Trial 22 finished with value: 1.0425490140914917 and parameters: {'num_filters': 96, 'depth': 3, 'dropout_rate': 0.2}. Best is trial 14 with value: 0.9374639987945557.\u001b[0m\n",
      "\u001b[32m[I 2021-09-20 11:30:55,779]\u001b[0m Trial 23 pruned. Trial was pruned at epoch 0.\u001b[0m\n",
      "\u001b[32m[I 2021-09-20 11:30:55,938]\u001b[0m Trial 24 pruned. Trial was pruned at epoch 0.\u001b[0m\n",
      "\u001b[32m[I 2021-09-20 11:30:56,167]\u001b[0m Trial 25 pruned. Trial was pruned at epoch 0.\u001b[0m\n",
      "\u001b[32m[I 2021-09-20 11:30:56,326]\u001b[0m Trial 26 pruned. Trial was pruned at epoch 0.\u001b[0m\n",
      "\u001b[32m[I 2021-09-20 11:30:56,721]\u001b[0m Trial 27 finished with value: 0.9769142270088196 and parameters: {'num_filters': 96, 'depth': 3, 'dropout_rate': 0.1}. Best is trial 14 with value: 0.9374639987945557.\u001b[0m\n",
      "\u001b[32m[I 2021-09-20 11:30:56,874]\u001b[0m Trial 28 pruned. Trial was pruned at epoch 0.\u001b[0m\n",
      "\u001b[32m[I 2021-09-20 11:30:57,053]\u001b[0m Trial 29 pruned. Trial was pruned at epoch 0.\u001b[0m\n",
      "\u001b[32m[I 2021-09-20 11:30:57,212]\u001b[0m Trial 30 pruned. Trial was pruned at epoch 0.\u001b[0m\n",
      "\u001b[32m[I 2021-09-20 11:30:57,490]\u001b[0m Trial 31 pruned. Trial was pruned at epoch 2.\u001b[0m\n",
      "\u001b[32m[I 2021-09-20 11:30:57,650]\u001b[0m Trial 32 pruned. Trial was pruned at epoch 0.\u001b[0m\n",
      "\u001b[32m[I 2021-09-20 11:30:57,809]\u001b[0m Trial 33 pruned. Trial was pruned at epoch 0.\u001b[0m\n",
      "\u001b[32m[I 2021-09-20 11:30:58,205]\u001b[0m Trial 34 finished with value: 0.9269697666168213 and parameters: {'num_filters': 96, 'depth': 3, 'dropout_rate': 0.2}. Best is trial 34 with value: 0.9269697666168213.\u001b[0m\n",
      "\u001b[32m[I 2021-09-20 11:30:58,363]\u001b[0m Trial 35 pruned. Trial was pruned at epoch 0.\u001b[0m\n",
      "\u001b[32m[I 2021-09-20 11:30:58,760]\u001b[0m Trial 36 finished with value: 0.9698739051818848 and parameters: {'num_filters': 96, 'depth': 3, 'dropout_rate': 0.30000000000000004}. Best is trial 34 with value: 0.9269697666168213.\u001b[0m\n",
      "\u001b[32m[I 2021-09-20 11:30:58,884]\u001b[0m Trial 37 pruned. Trial was pruned at epoch 0.\u001b[0m\n",
      "\u001b[32m[I 2021-09-20 11:30:59,228]\u001b[0m Trial 38 pruned. Trial was pruned at epoch 1.\u001b[0m\n",
      "\u001b[32m[I 2021-09-20 11:30:59,365]\u001b[0m Trial 39 pruned. Trial was pruned at epoch 0.\u001b[0m\n",
      "\u001b[32m[I 2021-09-20 11:30:59,830]\u001b[0m Trial 40 pruned. Trial was pruned at epoch 1.\u001b[0m\n",
      "\u001b[32m[I 2021-09-20 11:30:59,990]\u001b[0m Trial 41 pruned. Trial was pruned at epoch 0.\u001b[0m\n",
      "\u001b[32m[I 2021-09-20 11:31:00,151]\u001b[0m Trial 42 pruned. Trial was pruned at epoch 0.\u001b[0m\n",
      "\u001b[32m[I 2021-09-20 11:31:00,310]\u001b[0m Trial 43 pruned. Trial was pruned at epoch 0.\u001b[0m\n",
      "\u001b[32m[I 2021-09-20 11:31:00,469]\u001b[0m Trial 44 pruned. Trial was pruned at epoch 0.\u001b[0m\n",
      "\u001b[32m[I 2021-09-20 11:31:00,592]\u001b[0m Trial 45 pruned. Trial was pruned at epoch 0.\u001b[0m\n",
      "\u001b[32m[I 2021-09-20 11:31:00,752]\u001b[0m Trial 46 pruned. Trial was pruned at epoch 0.\u001b[0m\n",
      "\u001b[32m[I 2021-09-20 11:31:00,887]\u001b[0m Trial 47 pruned. Trial was pruned at epoch 0.\u001b[0m\n",
      "\u001b[32m[I 2021-09-20 11:31:01,047]\u001b[0m Trial 48 pruned. Trial was pruned at epoch 0.\u001b[0m\n",
      "\u001b[32m[I 2021-09-20 11:31:01,276]\u001b[0m Trial 49 pruned. Trial was pruned at epoch 0.\u001b[0m\n",
      "\u001b[32m[I 2021-09-20 11:31:01,437]\u001b[0m Trial 50 pruned. Trial was pruned at epoch 0.\u001b[0m\n",
      "\u001b[32m[I 2021-09-20 11:31:01,596]\u001b[0m Trial 51 pruned. Trial was pruned at epoch 0.\u001b[0m\n",
      "\u001b[32m[I 2021-09-20 11:31:01,755]\u001b[0m Trial 52 pruned. Trial was pruned at epoch 0.\u001b[0m\n",
      "\u001b[32m[I 2021-09-20 11:31:02,032]\u001b[0m Trial 53 pruned. Trial was pruned at epoch 2.\u001b[0m\n",
      "\u001b[32m[I 2021-09-20 11:31:02,194]\u001b[0m Trial 54 pruned. Trial was pruned at epoch 0.\u001b[0m\n",
      "\u001b[32m[I 2021-09-20 11:31:02,471]\u001b[0m Trial 55 pruned. Trial was pruned at epoch 2.\u001b[0m\n",
      "\u001b[32m[I 2021-09-20 11:31:02,594]\u001b[0m Trial 56 pruned. Trial was pruned at epoch 0.\u001b[0m\n",
      "\u001b[32m[I 2021-09-20 11:31:02,753]\u001b[0m Trial 57 pruned. Trial was pruned at epoch 0.\u001b[0m\n",
      "\u001b[32m[I 2021-09-20 11:31:02,929]\u001b[0m Trial 58 pruned. Trial was pruned at epoch 1.\u001b[0m\n",
      "\u001b[32m[I 2021-09-20 11:31:03,163]\u001b[0m Trial 59 pruned. Trial was pruned at epoch 0.\u001b[0m\n",
      "\u001b[32m[I 2021-09-20 11:31:03,381]\u001b[0m Trial 60 pruned. Trial was pruned at epoch 1.\u001b[0m\n",
      "\u001b[32m[I 2021-09-20 11:31:03,601]\u001b[0m Trial 61 pruned. Trial was pruned at epoch 1.\u001b[0m\n",
      "\u001b[32m[I 2021-09-20 11:31:03,759]\u001b[0m Trial 62 pruned. Trial was pruned at epoch 0.\u001b[0m\n",
      "\u001b[32m[I 2021-09-20 11:31:03,918]\u001b[0m Trial 63 pruned. Trial was pruned at epoch 0.\u001b[0m\n",
      "\u001b[32m[I 2021-09-20 11:31:04,223]\u001b[0m Trial 64 pruned. Trial was pruned at epoch 0.\u001b[0m\n",
      "\u001b[32m[I 2021-09-20 11:31:04,382]\u001b[0m Trial 65 pruned. Trial was pruned at epoch 0.\u001b[0m\n",
      "\u001b[32m[I 2021-09-20 11:31:04,541]\u001b[0m Trial 66 pruned. Trial was pruned at epoch 0.\u001b[0m\n",
      "\u001b[32m[I 2021-09-20 11:31:04,666]\u001b[0m Trial 67 pruned. Trial was pruned at epoch 0.\u001b[0m\n",
      "\u001b[32m[I 2021-09-20 11:31:04,885]\u001b[0m Trial 68 pruned. Trial was pruned at epoch 1.\u001b[0m\n",
      "\u001b[32m[I 2021-09-20 11:31:05,020]\u001b[0m Trial 69 pruned. Trial was pruned at epoch 0.\u001b[0m\n",
      "\u001b[32m[I 2021-09-20 11:31:05,180]\u001b[0m Trial 70 pruned. Trial was pruned at epoch 0.\u001b[0m\n",
      "\u001b[32m[I 2021-09-20 11:31:05,339]\u001b[0m Trial 71 pruned. Trial was pruned at epoch 0.\u001b[0m\n",
      "\u001b[32m[I 2021-09-20 11:31:05,501]\u001b[0m Trial 72 pruned. Trial was pruned at epoch 0.\u001b[0m\n",
      "\u001b[32m[I 2021-09-20 11:31:05,661]\u001b[0m Trial 73 pruned. Trial was pruned at epoch 0.\u001b[0m\n",
      "\u001b[32m[I 2021-09-20 11:31:05,942]\u001b[0m Trial 74 pruned. Trial was pruned at epoch 2.\u001b[0m\n",
      "\u001b[32m[I 2021-09-20 11:31:06,103]\u001b[0m Trial 75 pruned. Trial was pruned at epoch 0.\u001b[0m\n",
      "\u001b[32m[I 2021-09-20 11:31:06,264]\u001b[0m Trial 76 pruned. Trial was pruned at epoch 0.\u001b[0m\n",
      "\u001b[32m[I 2021-09-20 11:31:06,425]\u001b[0m Trial 77 pruned. Trial was pruned at epoch 0.\u001b[0m\n",
      "\u001b[32m[I 2021-09-20 11:31:06,656]\u001b[0m Trial 78 pruned. Trial was pruned at epoch 0.\u001b[0m\n",
      "\u001b[32m[I 2021-09-20 11:31:06,780]\u001b[0m Trial 79 pruned. Trial was pruned at epoch 0.\u001b[0m\n",
      "\u001b[32m[I 2021-09-20 11:31:07,180]\u001b[0m Trial 80 finished with value: 0.9875072836875916 and parameters: {'num_filters': 96, 'depth': 3, 'dropout_rate': 0.4}. Best is trial 34 with value: 0.9269697666168213.\u001b[0m\n",
      "\u001b[32m[I 2021-09-20 11:31:07,577]\u001b[0m Trial 81 finished with value: 0.9806374311447144 and parameters: {'num_filters': 96, 'depth': 3, 'dropout_rate': 0.4}. Best is trial 34 with value: 0.9269697666168213.\u001b[0m\n",
      "\u001b[32m[I 2021-09-20 11:31:07,735]\u001b[0m Trial 82 pruned. Trial was pruned at epoch 0.\u001b[0m\n",
      "\u001b[32m[I 2021-09-20 11:31:07,896]\u001b[0m Trial 83 pruned. Trial was pruned at epoch 0.\u001b[0m\n",
      "\u001b[32m[I 2021-09-20 11:31:08,059]\u001b[0m Trial 84 pruned. Trial was pruned at epoch 0.\u001b[0m\n",
      "\u001b[32m[I 2021-09-20 11:31:08,221]\u001b[0m Trial 85 pruned. Trial was pruned at epoch 0.\u001b[0m\n",
      "\u001b[32m[I 2021-09-20 11:31:08,380]\u001b[0m Trial 86 pruned. Trial was pruned at epoch 0.\u001b[0m\n",
      "\u001b[32m[I 2021-09-20 11:31:08,516]\u001b[0m Trial 87 pruned. Trial was pruned at epoch 0.\u001b[0m\n",
      "\u001b[32m[I 2021-09-20 11:31:08,677]\u001b[0m Trial 88 pruned. Trial was pruned at epoch 0.\u001b[0m\n",
      "\u001b[32m[I 2021-09-20 11:31:09,074]\u001b[0m Trial 89 finished with value: 0.9727990031242371 and parameters: {'num_filters': 96, 'depth': 3, 'dropout_rate': 0.4}. Best is trial 34 with value: 0.9269697666168213.\u001b[0m\n",
      "\u001b[32m[I 2021-09-20 11:31:09,233]\u001b[0m Trial 90 pruned. Trial was pruned at epoch 0.\u001b[0m\n",
      "\u001b[32m[I 2021-09-20 11:31:09,393]\u001b[0m Trial 91 pruned. Trial was pruned at epoch 0.\u001b[0m\n",
      "\u001b[32m[I 2021-09-20 11:31:09,555]\u001b[0m Trial 92 pruned. Trial was pruned at epoch 0.\u001b[0m\n",
      "\u001b[32m[I 2021-09-20 11:31:09,833]\u001b[0m Trial 93 pruned. Trial was pruned at epoch 2.\u001b[0m\n",
      "\u001b[32m[I 2021-09-20 11:31:09,996]\u001b[0m Trial 94 pruned. Trial was pruned at epoch 0.\u001b[0m\n",
      "\u001b[32m[I 2021-09-20 11:31:10,158]\u001b[0m Trial 95 pruned. Trial was pruned at epoch 0.\u001b[0m\n",
      "\u001b[32m[I 2021-09-20 11:31:10,320]\u001b[0m Trial 96 pruned. Trial was pruned at epoch 0.\u001b[0m\n",
      "\u001b[32m[I 2021-09-20 11:31:10,480]\u001b[0m Trial 97 pruned. Trial was pruned at epoch 0.\u001b[0m\n",
      "\u001b[32m[I 2021-09-20 11:31:10,757]\u001b[0m Trial 98 pruned. Trial was pruned at epoch 2.\u001b[0m\n",
      "\u001b[32m[I 2021-09-20 11:31:10,883]\u001b[0m Trial 99 pruned. Trial was pruned at epoch 0.\u001b[0m\n"
     ]
    }
   ],
   "source": [
    "study = optuna.create_study(direction='minimize')\n",
    "study.optimize(objective, n_trials=100)"
   ]
  },
  {
   "cell_type": "code",
   "execution_count": 7,
   "metadata": {
    "colab": {
     "base_uri": "https://localhost:8080/"
    },
    "id": "CYJFJW6jJP8_",
    "outputId": "2e66c944-99cc-422f-d89b-7dbbe3c89c86"
   },
   "outputs": [
    {
     "name": "stdout",
     "output_type": "stream",
     "text": [
      "Study statistics: \n",
      "  Number of finished trials:  100\n",
      "Best trial:\n",
      "  Value:  0.9269697666168213\n",
      "  Params: \n",
      "    num_filters: 96\n",
      "    depth: 3\n",
      "    dropout_rate: 0.2\n"
     ]
    }
   ],
   "source": [
    "print(\"Study statistics: \")\n",
    "print(\"  Number of finished trials: \", len(study.trials))\n",
    "\n",
    "print(\"Best trial:\")\n",
    "trial = study.best_trial\n",
    "\n",
    "print(\"  Value: \", trial.value)\n",
    "\n",
    "print(\"  Params: \")\n",
    "for key, value in trial.params.items():\n",
    "    print(\"    {}: {}\".format(key, value))"
   ]
  },
  {
   "cell_type": "markdown",
   "metadata": {},
   "source": [
    "For reference, the default hyperparameter for the baseline `InceptionTimePlus` [model](\"https://github.com/timeseriesAI/tsai/blob/main/tsai/models/InceptionTimePlus.py\") is `nf=32`, `depth=6`, and `dropout_rate=0.0`"
   ]
  },
  {
   "cell_type": "markdown",
   "metadata": {},
   "source": [
    "# View Plots"
   ]
  },
  {
   "cell_type": "markdown",
   "metadata": {},
   "source": [
    "You will need to install plotly to view the plots"
   ]
  },
  {
   "cell_type": "code",
   "execution_count": 8,
   "metadata": {},
   "outputs": [],
   "source": [
    "# !pip install plotly"
   ]
  },
  {
   "cell_type": "code",
   "execution_count": 12,
   "metadata": {},
   "outputs": [
    {
     "data": {
      "text/html": [
       "<iframe\n",
       "    scrolling=\"no\"\n",
       "    width=\"100%\"\n",
       "    height=\"545px\"\n",
       "    src=\"iframe_figures/figure_12.html\"\n",
       "    frameborder=\"0\"\n",
       "    allowfullscreen\n",
       "></iframe>\n"
      ]
     },
     "metadata": {},
     "output_type": "display_data"
    },
    {
     "data": {
      "text/html": [
       "<iframe\n",
       "    scrolling=\"no\"\n",
       "    width=\"100%\"\n",
       "    height=\"545px\"\n",
       "    src=\"iframe_figures/figure_12.html\"\n",
       "    frameborder=\"0\"\n",
       "    allowfullscreen\n",
       "></iframe>\n"
      ]
     },
     "metadata": {},
     "output_type": "display_data"
    },
    {
     "data": {
      "text/html": [
       "<iframe\n",
       "    scrolling=\"no\"\n",
       "    width=\"100%\"\n",
       "    height=\"545px\"\n",
       "    src=\"iframe_figures/figure_12.html\"\n",
       "    frameborder=\"0\"\n",
       "    allowfullscreen\n",
       "></iframe>\n"
      ]
     },
     "metadata": {},
     "output_type": "display_data"
    },
    {
     "data": {
      "text/html": [
       "<iframe\n",
       "    scrolling=\"no\"\n",
       "    width=\"100%\"\n",
       "    height=\"545px\"\n",
       "    src=\"iframe_figures/figure_12.html\"\n",
       "    frameborder=\"0\"\n",
       "    allowfullscreen\n",
       "></iframe>\n"
      ]
     },
     "metadata": {},
     "output_type": "display_data"
    }
   ],
   "source": [
    "# The following imports may be necessary ot show the plots if you are using jupyterlab\n",
    "# import plotly.io as pio\n",
    "# pio.renderers.default='iframe'\n",
    "\n",
    "display(optuna.visualization.plot_optimization_history(study))\n",
    "\n",
    "display(optuna.visualization.plot_param_importances(study))\n",
    "\n",
    "display(optuna.visualization.plot_slice(study))\n",
    "\n",
    "display(optuna.visualization.plot_parallel_coordinate(study))"
   ]
  },
  {
   "cell_type": "markdown",
   "metadata": {
    "tags": []
   },
   "source": [
    "## Retrain the model with best hyperparameters"
   ]
  },
  {
   "cell_type": "markdown",
   "metadata": {},
   "source": [
    "Now that we have obtained the optimized hyperparameters from the Optuna study, we can train the InceptionTimePlus model again with the optimal hyperparameter values and note the improvement from the baseline model."
   ]
  },
  {
   "cell_type": "code",
   "execution_count": 10,
   "metadata": {},
   "outputs": [],
   "source": [
    "# Get the best nf and dropout rate from the best trial object\n",
    "trial = study.best_trial\n",
    "nf = trial.params['num_filters']\n",
    "depth = trial.params['depth']\n",
    "dropout_rate = trial.params['dropout_rate']"
   ]
  },
  {
   "cell_type": "code",
   "execution_count": 11,
   "metadata": {
    "id": "varhtJwRKVoG"
   },
   "outputs": [
    {
     "data": {
      "text/html": [
       "<table border=\"1\" class=\"dataframe\">\n",
       "  <thead>\n",
       "    <tr style=\"text-align: left;\">\n",
       "      <th>epoch</th>\n",
       "      <th>train_loss</th>\n",
       "      <th>valid_loss</th>\n",
       "      <th>accuracy</th>\n",
       "      <th>time</th>\n",
       "    </tr>\n",
       "  </thead>\n",
       "  <tbody>\n",
       "    <tr>\n",
       "      <td>0</td>\n",
       "      <td>1.868642</td>\n",
       "      <td>1.774682</td>\n",
       "      <td>0.166667</td>\n",
       "      <td>00:00</td>\n",
       "    </tr>\n",
       "    <tr>\n",
       "      <td>1</td>\n",
       "      <td>1.287827</td>\n",
       "      <td>1.601382</td>\n",
       "      <td>0.577778</td>\n",
       "      <td>00:00</td>\n",
       "    </tr>\n",
       "    <tr>\n",
       "      <td>2</td>\n",
       "      <td>0.968035</td>\n",
       "      <td>1.322487</td>\n",
       "      <td>0.700000</td>\n",
       "      <td>00:00</td>\n",
       "    </tr>\n",
       "    <tr>\n",
       "      <td>3</td>\n",
       "      <td>0.796570</td>\n",
       "      <td>1.076718</td>\n",
       "      <td>0.700000</td>\n",
       "      <td>00:00</td>\n",
       "    </tr>\n",
       "    <tr>\n",
       "      <td>4</td>\n",
       "      <td>0.688694</td>\n",
       "      <td>0.940639</td>\n",
       "      <td>0.722222</td>\n",
       "      <td>00:00</td>\n",
       "    </tr>\n",
       "  </tbody>\n",
       "</table>"
      ],
      "text/plain": [
       "<IPython.core.display.HTML object>"
      ]
     },
     "metadata": {},
     "output_type": "display_data"
    },
    {
     "data": {
      "image/png": "[encoded data removed]",
      "text/plain": [
       "<Figure size 432x288 with 1 Axes>"
      ]
     },
     "metadata": {},
     "output_type": "display_data"
    },
    {
     "data": {
      "image/png": "[encoded data removed]",
      "text/plain": [
       "<Figure size 864x288 with 2 Axes>"
      ]
     },
     "metadata": {
      "needs_background": "light"
     },
     "output_type": "display_data"
    }
   ],
   "source": [
    "learn = TSClassifier(X, y, splits=splits, bs=[64, 128], \n",
    "                     batch_tfms=TSStandardize(by_sample=True), \n",
    "                     arch=InceptionTimePlus, arch_config={'nf':nf, 'fc_dropout':dropout_rate, 'depth':depth},\n",
    "                     metrics=accuracy, cbs=ShowGraph())\n",
    "learn.fit_one_cycle(5, lr_max=1e-3)\n"
   ]
  },
  {
   "cell_type": "markdown",
   "metadata": {},
   "source": [
    "For comparison our baseline model can only scored around 50% accuracy with 5 epochs training. However, using the hyperparameters from the Optuna study results in much higher accuracy. The numbers might vary due to the randomness in training. You can seed you runs or train the model a few times to verify the results. Sometimes the study fails to find a combination that works better than the baseline. In this case you might want to increase the number of trials in the study.\n",
    "\n",
    "Happy learning! "
   ]
  },
  {
   "cell_type": "code",
   "execution_count": null,
   "metadata": {},
   "outputs": [],
   "source": []
  }
 ],
 "metadata": {
  "accelerator": "GPU",
  "colab": {
   "collapsed_sections": [],
   "name": "Optuna_01_Intro_to_Time_Series_Classification.ipynb",
   "provenance": []
  },
  "kernelspec": {
   "display_name": "Python 3 (ipykernel)",
   "language": "python",
   "name": "python3"
  },
  "language_info": {
   "codemirror_mode": {
    "name": "ipython",
    "version": 3
   },
   "file_extension": ".py",
   "mimetype": "text/x-python",
   "name": "python",
   "nbconvert_exporter": "python",
   "pygments_lexer": "ipython3",
   "version": "3.8.11"
  },
  "toc": {
   "base_numbering": 1,
   "nav_menu": {},
   "number_sections": true,
   "sideBar": true,
   "skip_h1_title": false,
   "title_cell": "Table of Contents",
   "title_sidebar": "Contents",
   "toc_cell": false,
   "toc_position": {},
   "toc_section_display": true,
   "toc_window_display": false
  },
  "widgets": {
   "application/vnd.jupyter.widget-state+json": {
    "0fdd64d81cf5489d905f0fed2be5fc96": {
     "model_module": "@jupyter-widgets/controls",
     "model_module_version": "1.5.0",
     "model_name": "ProgressStyleModel",
     "state": {
      "_model_module": "@jupyter-widgets/controls",
      "_model_module_version": "1.5.0",
      "_model_name": "ProgressStyleModel",
      "_view_count": null,
      "_view_module": "@jupyter-widgets/base",
      "_view_module_version": "1.2.0",
      "_view_name": "StyleView",
      "bar_color": null,
      "description_width": "initial"
     }
    },
    "3e34e396e3d44d539d513eea7d54bdad": {
     "model_module": "@jupyter-widgets/base",
     "model_module_version": "1.2.0",
     "model_name": "LayoutModel",
     "state": {
      "_model_module": "@jupyter-widgets/base",
      "_model_module_version": "1.2.0",
      "_model_name": "LayoutModel",
      "_view_count": null,
      "_view_module": "@jupyter-widgets/base",
      "_view_module_version": "1.2.0",
      "_view_name": "LayoutView",
      "align_content": null,
      "align_items": null,
      "align_self": null,
      "border": null,
      "bottom": null,
      "display": null,
      "flex": null,
      "flex_flow": null,
      "grid_area": null,
      "grid_auto_columns": null,
      "grid_auto_flow": null,
      "grid_auto_rows": null,
      "grid_column": null,
      "grid_gap": null,
      "grid_row": null,
      "grid_template_areas": null,
      "grid_template_columns": null,
      "grid_template_rows": null,
      "height": null,
      "justify_content": null,
      "justify_items": null,
      "left": null,
      "margin": null,
      "max_height": null,
      "max_width": null,
      "min_height": null,
      "min_width": null,
      "object_fit": null,
      "object_position": null,
      "order": null,
      "overflow": null,
      "overflow_x": null,
      "overflow_y": null,
      "padding": null,
      "right": null,
      "top": null,
      "visibility": null,
      "width": null
     }
    },
    "5009b6fc90d4479f9412d72134fa3570": {
     "model_module": "@jupyter-widgets/controls",
     "model_module_version": "1.5.0",
     "model_name": "HBoxModel",
     "state": {
      "_dom_classes": [],
      "_model_module": "@jupyter-widgets/controls",
      "_model_module_version": "1.5.0",
      "_model_name": "HBoxModel",
      "_view_count": null,
      "_view_module": "@jupyter-widgets/controls",
      "_view_module_version": "1.5.0",
      "_view_name": "HBoxView",
      "box_style": "",
      "children": [
       "IPY_MODEL_eaebc755be8a4ab1a9766e61a53e8b57",
       "IPY_MODEL_d1660405d9034b79a87d249a0695dd5e"
      ],
      "layout": "IPY_MODEL_bc10f87670cf45c1b01a6a0310342e73"
     }
    },
    "971044db545f4539814b7e44f5fee884": {
     "model_module": "@jupyter-widgets/base",
     "model_module_version": "1.2.0",
     "model_name": "LayoutModel",
     "state": {
      "_model_module": "@jupyter-widgets/base",
      "_model_module_version": "1.2.0",
      "_model_name": "LayoutModel",
      "_view_count": null,
      "_view_module": "@jupyter-widgets/base",
      "_view_module_version": "1.2.0",
      "_view_name": "LayoutView",
      "align_content": null,
      "align_items": null,
      "align_self": null,
      "border": null,
      "bottom": null,
      "display": null,
      "flex": null,
      "flex_flow": null,
      "grid_area": null,
      "grid_auto_columns": null,
      "grid_auto_flow": null,
      "grid_auto_rows": null,
      "grid_column": null,
      "grid_gap": null,
      "grid_row": null,
      "grid_template_areas": null,
      "grid_template_columns": null,
      "grid_template_rows": null,
      "height": null,
      "justify_content": null,
      "justify_items": null,
      "left": null,
      "margin": null,
      "max_height": null,
      "max_width": null,
      "min_height": null,
      "min_width": null,
      "object_fit": null,
      "object_position": null,
      "order": null,
      "overflow": null,
      "overflow_x": null,
      "overflow_y": null,
      "padding": null,
      "right": null,
      "top": null,
      "visibility": null,
      "width": null
     }
    },
    "a3dc91b579414fadb4c03449da6fb0f8": {
     "model_module": "@jupyter-widgets/controls",
     "model_module_version": "1.5.0",
     "model_name": "DescriptionStyleModel",
     "state": {
      "_model_module": "@jupyter-widgets/controls",
      "_model_module_version": "1.5.0",
      "_model_name": "DescriptionStyleModel",
      "_view_count": null,
      "_view_module": "@jupyter-widgets/base",
      "_view_module_version": "1.2.0",
      "_view_name": "StyleView",
      "description_width": ""
     }
    },
    "bc10f87670cf45c1b01a6a0310342e73": {
     "model_module": "@jupyter-widgets/base",
     "model_module_version": "1.2.0",
     "model_name": "LayoutModel",
     "state": {
      "_model_module": "@jupyter-widgets/base",
      "_model_module_version": "1.2.0",
      "_model_name": "LayoutModel",
      "_view_count": null,
      "_view_module": "@jupyter-widgets/base",
      "_view_module_version": "1.2.0",
      "_view_name": "LayoutView",
      "align_content": null,
      "align_items": null,
      "align_self": null,
      "border": null,
      "bottom": null,
      "display": null,
      "flex": null,
      "flex_flow": null,
      "grid_area": null,
      "grid_auto_columns": null,
      "grid_auto_flow": null,
      "grid_auto_rows": null,
      "grid_column": null,
      "grid_gap": null,
      "grid_row": null,
      "grid_template_areas": null,
      "grid_template_columns": null,
      "grid_template_rows": null,
      "height": null,
      "justify_content": null,
      "justify_items": null,
      "left": null,
      "margin": null,
      "max_height": null,
      "max_width": null,
      "min_height": null,
      "min_width": null,
      "object_fit": null,
      "object_position": null,
      "order": null,
      "overflow": null,
      "overflow_x": null,
      "overflow_y": null,
      "padding": null,
      "right": null,
      "top": null,
      "visibility": null,
      "width": null
     }
    },
    "d1660405d9034b79a87d249a0695dd5e": {
     "model_module": "@jupyter-widgets/controls",
     "model_module_version": "1.5.0",
     "model_name": "HTMLModel",
     "state": {
      "_dom_classes": [],
      "_model_module": "@jupyter-widgets/controls",
      "_model_module_version": "1.5.0",
      "_model_name": "HTMLModel",
      "_view_count": null,
      "_view_module": "@jupyter-widgets/controls",
      "_view_module_version": "1.5.0",
      "_view_name": "HTMLView",
      "description": "",
      "description_tooltip": null,
      "layout": "IPY_MODEL_3e34e396e3d44d539d513eea7d54bdad",
      "placeholder": "​",
      "style": "IPY_MODEL_a3dc91b579414fadb4c03449da6fb0f8",
      "value": " 100/100 [01:00&lt;00:00,  1.65it/s]"
     }
    },
    "eaebc755be8a4ab1a9766e61a53e8b57": {
     "model_module": "@jupyter-widgets/controls",
     "model_module_version": "1.5.0",
     "model_name": "FloatProgressModel",
     "state": {
      "_dom_classes": [],
      "_model_module": "@jupyter-widgets/controls",
      "_model_module_version": "1.5.0",
      "_model_name": "FloatProgressModel",
      "_view_count": null,
      "_view_module": "@jupyter-widgets/controls",
      "_view_module_version": "1.5.0",
      "_view_name": "ProgressView",
      "bar_style": "success",
      "description": "100%",
      "description_tooltip": null,
      "layout": "IPY_MODEL_971044db545f4539814b7e44f5fee884",
      "max": 100,
      "min": 0,
      "orientation": "horizontal",
      "style": "IPY_MODEL_0fdd64d81cf5489d905f0fed2be5fc96",
      "value": 100
     }
    }
   }
  }
 },
 "nbformat": 4,
 "nbformat_minor": 4
}
